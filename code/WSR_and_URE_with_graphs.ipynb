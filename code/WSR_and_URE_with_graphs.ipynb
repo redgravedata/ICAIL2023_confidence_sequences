{
 "cells": [
  {
   "cell_type": "markdown",
   "id": "53614bb3-112b-45ed-a3ee-a3d64a955f18",
   "metadata": {},
   "source": [
    "Computing Confidence Intervals Using the WS-R Confidence Sequence"
   ]
  },
  {
   "cell_type": "code",
   "execution_count": 1,
   "id": "70ea22e5-3cbf-469c-9dab-ec79559021f1",
   "metadata": {},
   "outputs": [],
   "source": [
    "import csv\n",
    "from csv import DictReader\n",
    "import pandas as pd\n",
    "import numpy as np\n",
    "from scipy.stats import betabinom\n",
    "import matplotlib.pyplot as plt\n",
    "import WSR_conf_seq_module\n",
    "import warnings\n",
    "warnings.filterwarnings('ignore')"
   ]
  },
  {
   "cell_type": "code",
   "execution_count": 2,
   "id": "210a634d-c373-4e16-9bc7-a16f2b7816de",
   "metadata": {},
   "outputs": [
    {
     "data": {
      "text/html": [
       "<div>\n",
       "<style scoped>\n",
       "    .dataframe tbody tr th:only-of-type {\n",
       "        vertical-align: middle;\n",
       "    }\n",
       "\n",
       "    .dataframe tbody tr th {\n",
       "        vertical-align: top;\n",
       "    }\n",
       "\n",
       "    .dataframe thead th {\n",
       "        text-align: right;\n",
       "    }\n",
       "</style>\n",
       "<table border=\"1\" class=\"dataframe\">\n",
       "  <thead>\n",
       "    <tr style=\"text-align: right;\">\n",
       "      <th></th>\n",
       "      <th>Index</th>\n",
       "      <th>regions_MEX</th>\n",
       "      <th>Scores</th>\n",
       "      <th>PRNs</th>\n",
       "    </tr>\n",
       "  </thead>\n",
       "  <tbody>\n",
       "    <tr>\n",
       "      <th>0</th>\n",
       "      <td>70661</td>\n",
       "      <td>True</td>\n",
       "      <td>3.659249</td>\n",
       "      <td>1a11a7f52e96ec2753d7248c0dc98bee</td>\n",
       "    </tr>\n",
       "    <tr>\n",
       "      <th>1</th>\n",
       "      <td>96571</td>\n",
       "      <td>True</td>\n",
       "      <td>6.283136</td>\n",
       "      <td>241833224f4d6280f3412359994bbf87</td>\n",
       "    </tr>\n",
       "    <tr>\n",
       "      <th>2</th>\n",
       "      <td>140164</td>\n",
       "      <td>True</td>\n",
       "      <td>6.181493</td>\n",
       "      <td>1f6b5990d261985289deb6a233663769</td>\n",
       "    </tr>\n",
       "    <tr>\n",
       "      <th>3</th>\n",
       "      <td>68049</td>\n",
       "      <td>True</td>\n",
       "      <td>5.811769</td>\n",
       "      <td>675c3fc628ce4fb7874fd9360b18a63e</td>\n",
       "    </tr>\n",
       "    <tr>\n",
       "      <th>4</th>\n",
       "      <td>97780</td>\n",
       "      <td>True</td>\n",
       "      <td>5.697700</td>\n",
       "      <td>d71a2fd032bd1f1c92ed3d3ac2c68f4f</td>\n",
       "    </tr>\n",
       "    <tr>\n",
       "      <th>...</th>\n",
       "      <td>...</td>\n",
       "      <td>...</td>\n",
       "      <td>...</td>\n",
       "      <td>...</td>\n",
       "    </tr>\n",
       "    <tr>\n",
       "      <th>160877</th>\n",
       "      <td>53210</td>\n",
       "      <td>False</td>\n",
       "      <td>-6.611165</td>\n",
       "      <td>441d3f5d817897808b3be706cc1ca0d9</td>\n",
       "    </tr>\n",
       "    <tr>\n",
       "      <th>160878</th>\n",
       "      <td>125695</td>\n",
       "      <td>False</td>\n",
       "      <td>-6.619656</td>\n",
       "      <td>4cc2fb82fd459b62e4666bf0fa5ebfa6</td>\n",
       "    </tr>\n",
       "    <tr>\n",
       "      <th>160879</th>\n",
       "      <td>70853</td>\n",
       "      <td>False</td>\n",
       "      <td>-6.621831</td>\n",
       "      <td>d1cb3e211406739d2fd344f37769938f</td>\n",
       "    </tr>\n",
       "    <tr>\n",
       "      <th>160880</th>\n",
       "      <td>31070</td>\n",
       "      <td>False</td>\n",
       "      <td>-6.762472</td>\n",
       "      <td>3b65eb33bf4353dc5996dd49dbea1eff</td>\n",
       "    </tr>\n",
       "    <tr>\n",
       "      <th>160881</th>\n",
       "      <td>149159</td>\n",
       "      <td>False</td>\n",
       "      <td>-6.952644</td>\n",
       "      <td>10f99a95dcd7c979f9f07ca6b814ae5d</td>\n",
       "    </tr>\n",
       "  </tbody>\n",
       "</table>\n",
       "<p>160882 rows × 4 columns</p>\n",
       "</div>"
      ],
      "text/plain": [
       "         Index regions_MEX    Scores                              PRNs\n",
       "0        70661        True  3.659249  1a11a7f52e96ec2753d7248c0dc98bee\n",
       "1        96571        True  6.283136  241833224f4d6280f3412359994bbf87\n",
       "2       140164        True  6.181493  1f6b5990d261985289deb6a233663769\n",
       "3        68049        True  5.811769  675c3fc628ce4fb7874fd9360b18a63e\n",
       "4        97780        True  5.697700  d71a2fd032bd1f1c92ed3d3ac2c68f4f\n",
       "...        ...         ...       ...                               ...\n",
       "160877   53210       False -6.611165  441d3f5d817897808b3be706cc1ca0d9\n",
       "160878  125695       False -6.619656  4cc2fb82fd459b62e4666bf0fa5ebfa6\n",
       "160879   70853       False -6.621831  d1cb3e211406739d2fd344f37769938f\n",
       "160880   31070       False -6.762472  3b65eb33bf4353dc5996dd49dbea1eff\n",
       "160881  149159       False -6.952644  10f99a95dcd7c979f9f07ca6b814ae5d\n",
       "\n",
       "[160882 rows x 4 columns]"
      ]
     },
     "execution_count": 2,
     "metadata": {},
     "output_type": "execute_result"
    }
   ],
   "source": [
    "#load one of the 9 document orderings into a pandas dataframe\n",
    "doc_collection = pd.read_csv('ICAIL_ordering_regions_MEX_4-0_relevance(md5).csv')\n",
    "Topic = 'regions_MEX'\n",
    "doc_collection[Topic] = doc_collection[Topic].astype(str)\n",
    "doc_collection"
   ]
  },
  {
   "cell_type": "code",
   "execution_count": 3,
   "id": "0e07e2a4-aef1-443f-a87d-8ec4686c90fc",
   "metadata": {},
   "outputs": [
    {
     "data": {
      "text/html": [
       "<div>\n",
       "<style scoped>\n",
       "    .dataframe tbody tr th:only-of-type {\n",
       "        vertical-align: middle;\n",
       "    }\n",
       "\n",
       "    .dataframe tbody tr th {\n",
       "        vertical-align: top;\n",
       "    }\n",
       "\n",
       "    .dataframe thead th {\n",
       "        text-align: right;\n",
       "    }\n",
       "</style>\n",
       "<table border=\"1\" class=\"dataframe\">\n",
       "  <thead>\n",
       "    <tr style=\"text-align: right;\">\n",
       "      <th></th>\n",
       "      <th>regions_MEX</th>\n",
       "      <th>Scores</th>\n",
       "      <th>PRNs</th>\n",
       "    </tr>\n",
       "  </thead>\n",
       "  <tbody>\n",
       "    <tr>\n",
       "      <th>0</th>\n",
       "      <td>True</td>\n",
       "      <td>3.659249</td>\n",
       "      <td>1a11a7f52e96ec2753d7248c0dc98bee</td>\n",
       "    </tr>\n",
       "    <tr>\n",
       "      <th>1</th>\n",
       "      <td>True</td>\n",
       "      <td>6.283136</td>\n",
       "      <td>241833224f4d6280f3412359994bbf87</td>\n",
       "    </tr>\n",
       "    <tr>\n",
       "      <th>2</th>\n",
       "      <td>True</td>\n",
       "      <td>6.181493</td>\n",
       "      <td>1f6b5990d261985289deb6a233663769</td>\n",
       "    </tr>\n",
       "    <tr>\n",
       "      <th>3</th>\n",
       "      <td>True</td>\n",
       "      <td>5.811769</td>\n",
       "      <td>675c3fc628ce4fb7874fd9360b18a63e</td>\n",
       "    </tr>\n",
       "    <tr>\n",
       "      <th>4</th>\n",
       "      <td>True</td>\n",
       "      <td>5.697700</td>\n",
       "      <td>d71a2fd032bd1f1c92ed3d3ac2c68f4f</td>\n",
       "    </tr>\n",
       "    <tr>\n",
       "      <th>...</th>\n",
       "      <td>...</td>\n",
       "      <td>...</td>\n",
       "      <td>...</td>\n",
       "    </tr>\n",
       "    <tr>\n",
       "      <th>160877</th>\n",
       "      <td>False</td>\n",
       "      <td>-6.611165</td>\n",
       "      <td>441d3f5d817897808b3be706cc1ca0d9</td>\n",
       "    </tr>\n",
       "    <tr>\n",
       "      <th>160878</th>\n",
       "      <td>False</td>\n",
       "      <td>-6.619656</td>\n",
       "      <td>4cc2fb82fd459b62e4666bf0fa5ebfa6</td>\n",
       "    </tr>\n",
       "    <tr>\n",
       "      <th>160879</th>\n",
       "      <td>False</td>\n",
       "      <td>-6.621831</td>\n",
       "      <td>d1cb3e211406739d2fd344f37769938f</td>\n",
       "    </tr>\n",
       "    <tr>\n",
       "      <th>160880</th>\n",
       "      <td>False</td>\n",
       "      <td>-6.762472</td>\n",
       "      <td>3b65eb33bf4353dc5996dd49dbea1eff</td>\n",
       "    </tr>\n",
       "    <tr>\n",
       "      <th>160881</th>\n",
       "      <td>False</td>\n",
       "      <td>-6.952644</td>\n",
       "      <td>10f99a95dcd7c979f9f07ca6b814ae5d</td>\n",
       "    </tr>\n",
       "  </tbody>\n",
       "</table>\n",
       "<p>160882 rows × 3 columns</p>\n",
       "</div>"
      ],
      "text/plain": [
       "       regions_MEX    Scores                              PRNs\n",
       "0             True  3.659249  1a11a7f52e96ec2753d7248c0dc98bee\n",
       "1             True  6.283136  241833224f4d6280f3412359994bbf87\n",
       "2             True  6.181493  1f6b5990d261985289deb6a233663769\n",
       "3             True  5.811769  675c3fc628ce4fb7874fd9360b18a63e\n",
       "4             True  5.697700  d71a2fd032bd1f1c92ed3d3ac2c68f4f\n",
       "...            ...       ...                               ...\n",
       "160877       False -6.611165  441d3f5d817897808b3be706cc1ca0d9\n",
       "160878       False -6.619656  4cc2fb82fd459b62e4666bf0fa5ebfa6\n",
       "160879       False -6.621831  d1cb3e211406739d2fd344f37769938f\n",
       "160880       False -6.762472  3b65eb33bf4353dc5996dd49dbea1eff\n",
       "160881       False -6.952644  10f99a95dcd7c979f9f07ca6b814ae5d\n",
       "\n",
       "[160882 rows x 3 columns]"
      ]
     },
     "execution_count": 3,
     "metadata": {},
     "output_type": "execute_result"
    }
   ],
   "source": [
    "#drop the old indexes from original doc ordering\n",
    "doc_collection = doc_collection.drop(columns=['Index'])\n",
    "doc_collection"
   ]
  },
  {
   "cell_type": "markdown",
   "id": "e2000538-8a6a-4a63-9ab5-9e9219c36c11",
   "metadata": {},
   "source": [
    "**Calculate N values for the document collection**"
   ]
  },
  {
   "cell_type": "code",
   "execution_count": 4,
   "id": "b5667ba4-2b1c-4dfa-a1b7-c648f233e3de",
   "metadata": {},
   "outputs": [
    {
     "data": {
      "text/plain": [
       "160882"
      ]
     },
     "execution_count": 4,
     "metadata": {},
     "output_type": "execute_result"
    }
   ],
   "source": [
    "#total documents in the document collection\n",
    "N = len(doc_collection)\n",
    "N"
   ]
  },
  {
   "cell_type": "code",
   "execution_count": 5,
   "id": "65af96fa-eb02-4ecb-bc82-5eb0e0cd511d",
   "metadata": {},
   "outputs": [
    {
     "data": {
      "text/plain": [
       "2099"
      ]
     },
     "execution_count": 5,
     "metadata": {},
     "output_type": "execute_result"
    }
   ],
   "source": [
    "#the number of relevant documents in the collection\n",
    "N_plus = WSR_conf_seq_module.calculate_N_plus(doc_collection, Topic)\n",
    "N_plus"
   ]
  },
  {
   "cell_type": "code",
   "execution_count": 6,
   "id": "fc000b38-8982-45a4-bc04-6f1c88ce3507",
   "metadata": {},
   "outputs": [
    {
     "data": {
      "text/plain": [
       "158783"
      ]
     },
     "execution_count": 6,
     "metadata": {},
     "output_type": "execute_result"
    }
   ],
   "source": [
    "#the number of non-relevant documents in the collection\n",
    "N_minus = WSR_conf_seq_module.calculate_N_minus(doc_collection, Topic)\n",
    "N_minus"
   ]
  },
  {
   "cell_type": "markdown",
   "id": "6b138a42-aa55-4381-815a-9d268c0080f4",
   "metadata": {},
   "source": [
    "**Calculate Z values for document collection**"
   ]
  },
  {
   "cell_type": "code",
   "execution_count": 7,
   "id": "64c42df2-d694-40a0-a701-4977701596e8",
   "metadata": {},
   "outputs": [
    {
     "data": {
      "text/plain": [
       "1864"
      ]
     },
     "execution_count": 7,
     "metadata": {},
     "output_type": "execute_result"
    }
   ],
   "source": [
    "#smallest the number of documents reviewed to reach 80% recall\n",
    "Z = WSR_conf_seq_module.get_Z_value(doc_collection, Topic, N_plus)\n",
    "Z"
   ]
  },
  {
   "cell_type": "code",
   "execution_count": 8,
   "id": "ca184a47-df5b-42b8-80c2-e2bada12a020",
   "metadata": {},
   "outputs": [
    {
     "data": {
      "text/html": [
       "<div>\n",
       "<style scoped>\n",
       "    .dataframe tbody tr th:only-of-type {\n",
       "        vertical-align: middle;\n",
       "    }\n",
       "\n",
       "    .dataframe tbody tr th {\n",
       "        vertical-align: top;\n",
       "    }\n",
       "\n",
       "    .dataframe thead th {\n",
       "        text-align: right;\n",
       "    }\n",
       "</style>\n",
       "<table border=\"1\" class=\"dataframe\">\n",
       "  <thead>\n",
       "    <tr style=\"text-align: right;\">\n",
       "      <th></th>\n",
       "      <th>regions_MEX</th>\n",
       "      <th>Scores</th>\n",
       "      <th>PRNs</th>\n",
       "    </tr>\n",
       "  </thead>\n",
       "  <tbody>\n",
       "    <tr>\n",
       "      <th>0</th>\n",
       "      <td>True</td>\n",
       "      <td>3.659249</td>\n",
       "      <td>1a11a7f52e96ec2753d7248c0dc98bee</td>\n",
       "    </tr>\n",
       "    <tr>\n",
       "      <th>1</th>\n",
       "      <td>True</td>\n",
       "      <td>6.283136</td>\n",
       "      <td>241833224f4d6280f3412359994bbf87</td>\n",
       "    </tr>\n",
       "    <tr>\n",
       "      <th>2</th>\n",
       "      <td>True</td>\n",
       "      <td>6.181493</td>\n",
       "      <td>1f6b5990d261985289deb6a233663769</td>\n",
       "    </tr>\n",
       "    <tr>\n",
       "      <th>3</th>\n",
       "      <td>True</td>\n",
       "      <td>5.811769</td>\n",
       "      <td>675c3fc628ce4fb7874fd9360b18a63e</td>\n",
       "    </tr>\n",
       "    <tr>\n",
       "      <th>4</th>\n",
       "      <td>True</td>\n",
       "      <td>5.697700</td>\n",
       "      <td>d71a2fd032bd1f1c92ed3d3ac2c68f4f</td>\n",
       "    </tr>\n",
       "    <tr>\n",
       "      <th>...</th>\n",
       "      <td>...</td>\n",
       "      <td>...</td>\n",
       "      <td>...</td>\n",
       "    </tr>\n",
       "    <tr>\n",
       "      <th>1854</th>\n",
       "      <td>True</td>\n",
       "      <td>1.337290</td>\n",
       "      <td>f894b8029cccdcfa90197441591a8093</td>\n",
       "    </tr>\n",
       "    <tr>\n",
       "      <th>1856</th>\n",
       "      <td>True</td>\n",
       "      <td>1.319787</td>\n",
       "      <td>bf6b4dfc24a4bf8daa6562e6f7198a5c</td>\n",
       "    </tr>\n",
       "    <tr>\n",
       "      <th>1858</th>\n",
       "      <td>True</td>\n",
       "      <td>1.288746</td>\n",
       "      <td>51f09929fb0b488d0708e12cfe6c6f80</td>\n",
       "    </tr>\n",
       "    <tr>\n",
       "      <th>1859</th>\n",
       "      <td>True</td>\n",
       "      <td>1.280983</td>\n",
       "      <td>0be143b4c8fd3e804fa60b11768f6d44</td>\n",
       "    </tr>\n",
       "    <tr>\n",
       "      <th>1862</th>\n",
       "      <td>True</td>\n",
       "      <td>1.261758</td>\n",
       "      <td>5974629335a6e29b71e7d467d0254437</td>\n",
       "    </tr>\n",
       "  </tbody>\n",
       "</table>\n",
       "<p>1679 rows × 3 columns</p>\n",
       "</div>"
      ],
      "text/plain": [
       "     regions_MEX    Scores                              PRNs\n",
       "0           True  3.659249  1a11a7f52e96ec2753d7248c0dc98bee\n",
       "1           True  6.283136  241833224f4d6280f3412359994bbf87\n",
       "2           True  6.181493  1f6b5990d261985289deb6a233663769\n",
       "3           True  5.811769  675c3fc628ce4fb7874fd9360b18a63e\n",
       "4           True  5.697700  d71a2fd032bd1f1c92ed3d3ac2c68f4f\n",
       "...          ...       ...                               ...\n",
       "1854        True  1.337290  f894b8029cccdcfa90197441591a8093\n",
       "1856        True  1.319787  bf6b4dfc24a4bf8daa6562e6f7198a5c\n",
       "1858        True  1.288746  51f09929fb0b488d0708e12cfe6c6f80\n",
       "1859        True  1.280983  0be143b4c8fd3e804fa60b11768f6d44\n",
       "1862        True  1.261758  5974629335a6e29b71e7d467d0254437\n",
       "\n",
       "[1679 rows x 3 columns]"
      ]
     },
     "execution_count": 8,
     "metadata": {},
     "output_type": "execute_result"
    }
   ],
   "source": [
    "doc_collection.iloc[:Z][doc_collection[Topic]=='True']"
   ]
  },
  {
   "cell_type": "code",
   "execution_count": 9,
   "id": "02542762-d85b-4f77-ab73-5d6bab82f5fd",
   "metadata": {},
   "outputs": [
    {
     "data": {
      "text/plain": [
       "1679"
      ]
     },
     "execution_count": 9,
     "metadata": {},
     "output_type": "execute_result"
    }
   ],
   "source": [
    "#number of reviewed docs that are relevant\n",
    "Z_plus = WSR_conf_seq_module.get_Zplus_value(doc_collection, Z, Topic)\n",
    "Z_plus"
   ]
  },
  {
   "cell_type": "code",
   "execution_count": 10,
   "id": "3f085681-727c-487e-845a-4e7d308f96cb",
   "metadata": {},
   "outputs": [
    {
     "data": {
      "text/plain": [
       "185"
      ]
     },
     "execution_count": 10,
     "metadata": {},
     "output_type": "execute_result"
    }
   ],
   "source": [
    "#number of reviewed docs that are nonrelevant\n",
    "Z_minus = WSR_conf_seq_module.get_Zminus_value(doc_collection, Z, Topic)\n",
    "Z_minus"
   ]
  },
  {
   "cell_type": "code",
   "execution_count": 11,
   "id": "853dc4eb-d893-4daf-a97b-51d9967d51a0",
   "metadata": {},
   "outputs": [
    {
     "data": {
      "text/plain": [
       "159018"
      ]
     },
     "execution_count": 11,
     "metadata": {},
     "output_type": "execute_result"
    }
   ],
   "source": [
    "#number of unreviewed docs in the collection\n",
    "Z_0 = WSR_conf_seq_module.get_Z0(doc_collection, Z, Topic)\n",
    "Z_0"
   ]
  },
  {
   "cell_type": "code",
   "execution_count": 12,
   "id": "b409d1e5-dcf0-47db-971e-13539a7866bb",
   "metadata": {},
   "outputs": [
    {
     "data": {
      "text/html": [
       "<div>\n",
       "<style scoped>\n",
       "    .dataframe tbody tr th:only-of-type {\n",
       "        vertical-align: middle;\n",
       "    }\n",
       "\n",
       "    .dataframe tbody tr th {\n",
       "        vertical-align: top;\n",
       "    }\n",
       "\n",
       "    .dataframe thead th {\n",
       "        text-align: right;\n",
       "    }\n",
       "</style>\n",
       "<table border=\"1\" class=\"dataframe\">\n",
       "  <thead>\n",
       "    <tr style=\"text-align: right;\">\n",
       "      <th></th>\n",
       "      <th>regions_MEX</th>\n",
       "      <th>Scores</th>\n",
       "      <th>PRNs</th>\n",
       "    </tr>\n",
       "  </thead>\n",
       "  <tbody>\n",
       "    <tr>\n",
       "      <th>1864</th>\n",
       "      <td>True</td>\n",
       "      <td>1.239936</td>\n",
       "      <td>b559a556a135c5a157dd69e0114c7ba7</td>\n",
       "    </tr>\n",
       "    <tr>\n",
       "      <th>1865</th>\n",
       "      <td>False</td>\n",
       "      <td>1.237670</td>\n",
       "      <td>a4eecfb99f097270209aba6e7429bbff</td>\n",
       "    </tr>\n",
       "    <tr>\n",
       "      <th>1866</th>\n",
       "      <td>False</td>\n",
       "      <td>1.219686</td>\n",
       "      <td>b4e52dd4fcf0a87da832d2412de53bbd</td>\n",
       "    </tr>\n",
       "    <tr>\n",
       "      <th>1867</th>\n",
       "      <td>True</td>\n",
       "      <td>1.213704</td>\n",
       "      <td>ff2ed1395b03562adc9b25db140b875c</td>\n",
       "    </tr>\n",
       "    <tr>\n",
       "      <th>1868</th>\n",
       "      <td>False</td>\n",
       "      <td>1.208748</td>\n",
       "      <td>4a8cc5c8e458ac07f051a4d169f83272</td>\n",
       "    </tr>\n",
       "    <tr>\n",
       "      <th>...</th>\n",
       "      <td>...</td>\n",
       "      <td>...</td>\n",
       "      <td>...</td>\n",
       "    </tr>\n",
       "    <tr>\n",
       "      <th>160877</th>\n",
       "      <td>False</td>\n",
       "      <td>-6.611165</td>\n",
       "      <td>441d3f5d817897808b3be706cc1ca0d9</td>\n",
       "    </tr>\n",
       "    <tr>\n",
       "      <th>160878</th>\n",
       "      <td>False</td>\n",
       "      <td>-6.619656</td>\n",
       "      <td>4cc2fb82fd459b62e4666bf0fa5ebfa6</td>\n",
       "    </tr>\n",
       "    <tr>\n",
       "      <th>160879</th>\n",
       "      <td>False</td>\n",
       "      <td>-6.621831</td>\n",
       "      <td>d1cb3e211406739d2fd344f37769938f</td>\n",
       "    </tr>\n",
       "    <tr>\n",
       "      <th>160880</th>\n",
       "      <td>False</td>\n",
       "      <td>-6.762472</td>\n",
       "      <td>3b65eb33bf4353dc5996dd49dbea1eff</td>\n",
       "    </tr>\n",
       "    <tr>\n",
       "      <th>160881</th>\n",
       "      <td>False</td>\n",
       "      <td>-6.952644</td>\n",
       "      <td>10f99a95dcd7c979f9f07ca6b814ae5d</td>\n",
       "    </tr>\n",
       "  </tbody>\n",
       "</table>\n",
       "<p>159018 rows × 3 columns</p>\n",
       "</div>"
      ],
      "text/plain": [
       "       regions_MEX    Scores                              PRNs\n",
       "1864          True  1.239936  b559a556a135c5a157dd69e0114c7ba7\n",
       "1865         False  1.237670  a4eecfb99f097270209aba6e7429bbff\n",
       "1866         False  1.219686  b4e52dd4fcf0a87da832d2412de53bbd\n",
       "1867          True  1.213704  ff2ed1395b03562adc9b25db140b875c\n",
       "1868         False  1.208748  4a8cc5c8e458ac07f051a4d169f83272\n",
       "...            ...       ...                               ...\n",
       "160877       False -6.611165  441d3f5d817897808b3be706cc1ca0d9\n",
       "160878       False -6.619656  4cc2fb82fd459b62e4666bf0fa5ebfa6\n",
       "160879       False -6.621831  d1cb3e211406739d2fd344f37769938f\n",
       "160880       False -6.762472  3b65eb33bf4353dc5996dd49dbea1eff\n",
       "160881       False -6.952644  10f99a95dcd7c979f9f07ca6b814ae5d\n",
       "\n",
       "[159018 rows x 3 columns]"
      ]
     },
     "execution_count": 12,
     "metadata": {},
     "output_type": "execute_result"
    }
   ],
   "source": [
    "#pandas dataframe listing unreviewed docs and their relevance determinations\n",
    "Z_0_list = doc_collection[Z:]\n",
    "Z_0_list"
   ]
  },
  {
   "cell_type": "code",
   "execution_count": 13,
   "id": "a48416bb-6d95-4277-b11c-8b50d959258b",
   "metadata": {},
   "outputs": [
    {
     "data": {
      "text/plain": [
       "420"
      ]
     },
     "execution_count": 13,
     "metadata": {},
     "output_type": "execute_result"
    }
   ],
   "source": [
    "#number of unreviewed docs that are relevant\n",
    "Z_0_plus = WSR_conf_seq_module.get_Z0plus_value(Z_0_list, Z, Topic)\n",
    "Z_0_plus"
   ]
  },
  {
   "cell_type": "code",
   "execution_count": 14,
   "id": "784cd66d-a70e-4654-9e07-e2f7cf456358",
   "metadata": {},
   "outputs": [
    {
     "data": {
      "text/plain": [
       "158598"
      ]
     },
     "execution_count": 14,
     "metadata": {},
     "output_type": "execute_result"
    }
   ],
   "source": [
    "#number of unreviewed docs are are nonrelevant\n",
    "Z_0_minus = WSR_conf_seq_module.get_Z0minus_value(Z_0_list, Z, Topic)\n",
    "Z_0_minus"
   ]
  },
  {
   "cell_type": "markdown",
   "id": "51773a84-cd2e-47b8-9c2e-8d4527008a60",
   "metadata": {},
   "source": [
    "**Verify that Z0 + Z_plus + Z_minus = N(160882)**"
   ]
  },
  {
   "cell_type": "code",
   "execution_count": 15,
   "id": "ba5d52f3-9873-450c-9e1b-1aee4c4f95be",
   "metadata": {},
   "outputs": [
    {
     "data": {
      "text/plain": [
       "160882"
      ]
     },
     "execution_count": 15,
     "metadata": {},
     "output_type": "execute_result"
    }
   ],
   "source": [
    "Z_plus + Z_minus + Z_0"
   ]
  },
  {
   "cell_type": "markdown",
   "id": "f18229e9-882a-4d15-b64f-7c65ce51c429",
   "metadata": {},
   "source": [
    "**Verify that Z_0_plus + Z_0_minus = Z_0**"
   ]
  },
  {
   "cell_type": "code",
   "execution_count": 16,
   "id": "413a09e6-785d-494c-bfb3-2005cab2c663",
   "metadata": {},
   "outputs": [
    {
     "data": {
      "text/plain": [
       "159018"
      ]
     },
     "execution_count": 16,
     "metadata": {},
     "output_type": "execute_result"
    }
   ],
   "source": [
    "Z_0_plus + Z_0_minus"
   ]
  },
  {
   "cell_type": "markdown",
   "id": "08df7781-7738-44fc-b7a1-dd0c1dfc1e75",
   "metadata": {},
   "source": [
    "**Generate samples for the WSR confidence intervals**"
   ]
  },
  {
   "cell_type": "code",
   "execution_count": 17,
   "id": "5fa49ff7-cc89-4c82-927b-8acb3e8fb490",
   "metadata": {},
   "outputs": [
    {
     "data": {
      "text/html": [
       "<div>\n",
       "<style scoped>\n",
       "    .dataframe tbody tr th:only-of-type {\n",
       "        vertical-align: middle;\n",
       "    }\n",
       "\n",
       "    .dataframe tbody tr th {\n",
       "        vertical-align: top;\n",
       "    }\n",
       "\n",
       "    .dataframe thead th {\n",
       "        text-align: right;\n",
       "    }\n",
       "</style>\n",
       "<table border=\"1\" class=\"dataframe\">\n",
       "  <thead>\n",
       "    <tr style=\"text-align: right;\">\n",
       "      <th></th>\n",
       "      <th>regions_MEX</th>\n",
       "      <th>Scores</th>\n",
       "      <th>PRNs</th>\n",
       "    </tr>\n",
       "  </thead>\n",
       "  <tbody>\n",
       "    <tr>\n",
       "      <th>60467</th>\n",
       "      <td>False</td>\n",
       "      <td>-1.828431</td>\n",
       "      <td>000041cd0abd9e197be4074a55b941b9</td>\n",
       "    </tr>\n",
       "    <tr>\n",
       "      <th>113365</th>\n",
       "      <td>False</td>\n",
       "      <td>-2.878930</td>\n",
       "      <td>00013ce794661a9693bbb187f3e00a76</td>\n",
       "    </tr>\n",
       "    <tr>\n",
       "      <th>10813</th>\n",
       "      <td>False</td>\n",
       "      <td>-0.762829</td>\n",
       "      <td>0001ab3b881ddc7f381df59daf55182c</td>\n",
       "    </tr>\n",
       "    <tr>\n",
       "      <th>87164</th>\n",
       "      <td>False</td>\n",
       "      <td>-2.335689</td>\n",
       "      <td>00024ea9d61d1c0337d275b553f2a82f</td>\n",
       "    </tr>\n",
       "    <tr>\n",
       "      <th>2736</th>\n",
       "      <td>False</td>\n",
       "      <td>-0.008255</td>\n",
       "      <td>00027775012fc72cba66cab016b7834c</td>\n",
       "    </tr>\n",
       "    <tr>\n",
       "      <th>...</th>\n",
       "      <td>...</td>\n",
       "      <td>...</td>\n",
       "      <td>...</td>\n",
       "    </tr>\n",
       "    <tr>\n",
       "      <th>96848</th>\n",
       "      <td>False</td>\n",
       "      <td>-2.527787</td>\n",
       "      <td>fffdb6cd73541a6de46778acfe6eb857</td>\n",
       "    </tr>\n",
       "    <tr>\n",
       "      <th>96692</th>\n",
       "      <td>False</td>\n",
       "      <td>-2.524914</td>\n",
       "      <td>fffe0a86f7b1265375b2feb5096dcf86</td>\n",
       "    </tr>\n",
       "    <tr>\n",
       "      <th>133815</th>\n",
       "      <td>False</td>\n",
       "      <td>-3.394372</td>\n",
       "      <td>ffff61684a3d561ce1f38139eeeef0ae</td>\n",
       "    </tr>\n",
       "    <tr>\n",
       "      <th>153542</th>\n",
       "      <td>False</td>\n",
       "      <td>-4.196027</td>\n",
       "      <td>ffff84f3b6d0d7bb1f0fd098e9f5cbc8</td>\n",
       "    </tr>\n",
       "    <tr>\n",
       "      <th>65890</th>\n",
       "      <td>False</td>\n",
       "      <td>-1.927708</td>\n",
       "      <td>ffff886de21ab35721a14ff976a9c311</td>\n",
       "    </tr>\n",
       "  </tbody>\n",
       "</table>\n",
       "<p>160882 rows × 3 columns</p>\n",
       "</div>"
      ],
      "text/plain": [
       "       regions_MEX    Scores                              PRNs\n",
       "60467        False -1.828431  000041cd0abd9e197be4074a55b941b9\n",
       "113365       False -2.878930  00013ce794661a9693bbb187f3e00a76\n",
       "10813        False -0.762829  0001ab3b881ddc7f381df59daf55182c\n",
       "87164        False -2.335689  00024ea9d61d1c0337d275b553f2a82f\n",
       "2736         False -0.008255  00027775012fc72cba66cab016b7834c\n",
       "...            ...       ...                               ...\n",
       "96848        False -2.527787  fffdb6cd73541a6de46778acfe6eb857\n",
       "96692        False -2.524914  fffe0a86f7b1265375b2feb5096dcf86\n",
       "133815       False -3.394372  ffff61684a3d561ce1f38139eeeef0ae\n",
       "153542       False -4.196027  ffff84f3b6d0d7bb1f0fd098e9f5cbc8\n",
       "65890        False -1.927708  ffff886de21ab35721a14ff976a9c311\n",
       "\n",
       "[160882 rows x 3 columns]"
      ]
     },
     "execution_count": 17,
     "metadata": {},
     "output_type": "execute_result"
    }
   ],
   "source": [
    "#sorting the collection by the PRN value\n",
    "PRN_permutation = doc_collection.sort_values(by = ['PRNs'], axis = 0)\n",
    "PRN_permutation"
   ]
  },
  {
   "cell_type": "code",
   "execution_count": 18,
   "id": "429f6867-604b-493b-b647-1312cb109df5",
   "metadata": {},
   "outputs": [
    {
     "data": {
      "text/html": [
       "<div>\n",
       "<style scoped>\n",
       "    .dataframe tbody tr th:only-of-type {\n",
       "        vertical-align: middle;\n",
       "    }\n",
       "\n",
       "    .dataframe tbody tr th {\n",
       "        vertical-align: top;\n",
       "    }\n",
       "\n",
       "    .dataframe thead th {\n",
       "        text-align: right;\n",
       "    }\n",
       "</style>\n",
       "<table border=\"1\" class=\"dataframe\">\n",
       "  <thead>\n",
       "    <tr style=\"text-align: right;\">\n",
       "      <th></th>\n",
       "      <th>regions_MEX</th>\n",
       "      <th>Scores</th>\n",
       "      <th>PRNs</th>\n",
       "    </tr>\n",
       "  </thead>\n",
       "  <tbody>\n",
       "    <tr>\n",
       "      <th>60467</th>\n",
       "      <td>False</td>\n",
       "      <td>-1.828431</td>\n",
       "      <td>000041cd0abd9e197be4074a55b941b9</td>\n",
       "    </tr>\n",
       "    <tr>\n",
       "      <th>113365</th>\n",
       "      <td>False</td>\n",
       "      <td>-2.878930</td>\n",
       "      <td>00013ce794661a9693bbb187f3e00a76</td>\n",
       "    </tr>\n",
       "    <tr>\n",
       "      <th>10813</th>\n",
       "      <td>False</td>\n",
       "      <td>-0.762829</td>\n",
       "      <td>0001ab3b881ddc7f381df59daf55182c</td>\n",
       "    </tr>\n",
       "    <tr>\n",
       "      <th>87164</th>\n",
       "      <td>False</td>\n",
       "      <td>-2.335689</td>\n",
       "      <td>00024ea9d61d1c0337d275b553f2a82f</td>\n",
       "    </tr>\n",
       "    <tr>\n",
       "      <th>2736</th>\n",
       "      <td>False</td>\n",
       "      <td>-0.008255</td>\n",
       "      <td>00027775012fc72cba66cab016b7834c</td>\n",
       "    </tr>\n",
       "    <tr>\n",
       "      <th>...</th>\n",
       "      <td>...</td>\n",
       "      <td>...</td>\n",
       "      <td>...</td>\n",
       "    </tr>\n",
       "    <tr>\n",
       "      <th>132441</th>\n",
       "      <td>False</td>\n",
       "      <td>-3.355815</td>\n",
       "      <td>002363afb912eaf9baa378c89a125f67</td>\n",
       "    </tr>\n",
       "    <tr>\n",
       "      <th>25040</th>\n",
       "      <td>False</td>\n",
       "      <td>-1.171436</td>\n",
       "      <td>0024382f1f910bbeff420e994c5cf4ad</td>\n",
       "    </tr>\n",
       "    <tr>\n",
       "      <th>156688</th>\n",
       "      <td>False</td>\n",
       "      <td>-4.460246</td>\n",
       "      <td>002456a02852da784f68747e7c51bf8f</td>\n",
       "    </tr>\n",
       "    <tr>\n",
       "      <th>81542</th>\n",
       "      <td>False</td>\n",
       "      <td>-2.224892</td>\n",
       "      <td>00245aec402d07ac3cc953d4bd20c5d6</td>\n",
       "    </tr>\n",
       "    <tr>\n",
       "      <th>50585</th>\n",
       "      <td>False</td>\n",
       "      <td>-1.652036</td>\n",
       "      <td>0024c082840acb248c4ba76cb7c9e24b</td>\n",
       "    </tr>\n",
       "  </tbody>\n",
       "</table>\n",
       "<p>100 rows × 3 columns</p>\n",
       "</div>"
      ],
      "text/plain": [
       "       regions_MEX    Scores                              PRNs\n",
       "60467        False -1.828431  000041cd0abd9e197be4074a55b941b9\n",
       "113365       False -2.878930  00013ce794661a9693bbb187f3e00a76\n",
       "10813        False -0.762829  0001ab3b881ddc7f381df59daf55182c\n",
       "87164        False -2.335689  00024ea9d61d1c0337d275b553f2a82f\n",
       "2736         False -0.008255  00027775012fc72cba66cab016b7834c\n",
       "...            ...       ...                               ...\n",
       "132441       False -3.355815  002363afb912eaf9baa378c89a125f67\n",
       "25040        False -1.171436  0024382f1f910bbeff420e994c5cf4ad\n",
       "156688       False -4.460246  002456a02852da784f68747e7c51bf8f\n",
       "81542        False -2.224892  00245aec402d07ac3cc953d4bd20c5d6\n",
       "50585        False -1.652036  0024c082840acb248c4ba76cb7c9e24b\n",
       "\n",
       "[100 rows x 3 columns]"
      ]
     },
     "execution_count": 18,
     "metadata": {},
     "output_type": "execute_result"
    }
   ],
   "source": [
    "prefix100 = WSR_conf_seq_module.generate_prefix_for_budget(PRN_permutation, 100, Z)\n",
    "prefix100"
   ]
  },
  {
   "cell_type": "code",
   "execution_count": 19,
   "id": "14692fc4-5f22-4d18-9d6d-8631e3e36215",
   "metadata": {},
   "outputs": [
    {
     "data": {
      "text/html": [
       "<div>\n",
       "<style scoped>\n",
       "    .dataframe tbody tr th:only-of-type {\n",
       "        vertical-align: middle;\n",
       "    }\n",
       "\n",
       "    .dataframe tbody tr th {\n",
       "        vertical-align: top;\n",
       "    }\n",
       "\n",
       "    .dataframe thead th {\n",
       "        text-align: right;\n",
       "    }\n",
       "</style>\n",
       "<table border=\"1\" class=\"dataframe\">\n",
       "  <thead>\n",
       "    <tr style=\"text-align: right;\">\n",
       "      <th></th>\n",
       "      <th>regions_MEX</th>\n",
       "      <th>Scores</th>\n",
       "      <th>PRNs</th>\n",
       "    </tr>\n",
       "  </thead>\n",
       "  <tbody>\n",
       "    <tr>\n",
       "      <th>60467</th>\n",
       "      <td>False</td>\n",
       "      <td>-1.828431</td>\n",
       "      <td>000041cd0abd9e197be4074a55b941b9</td>\n",
       "    </tr>\n",
       "    <tr>\n",
       "      <th>113365</th>\n",
       "      <td>False</td>\n",
       "      <td>-2.878930</td>\n",
       "      <td>00013ce794661a9693bbb187f3e00a76</td>\n",
       "    </tr>\n",
       "    <tr>\n",
       "      <th>10813</th>\n",
       "      <td>False</td>\n",
       "      <td>-0.762829</td>\n",
       "      <td>0001ab3b881ddc7f381df59daf55182c</td>\n",
       "    </tr>\n",
       "    <tr>\n",
       "      <th>87164</th>\n",
       "      <td>False</td>\n",
       "      <td>-2.335689</td>\n",
       "      <td>00024ea9d61d1c0337d275b553f2a82f</td>\n",
       "    </tr>\n",
       "    <tr>\n",
       "      <th>2736</th>\n",
       "      <td>False</td>\n",
       "      <td>-0.008255</td>\n",
       "      <td>00027775012fc72cba66cab016b7834c</td>\n",
       "    </tr>\n",
       "    <tr>\n",
       "      <th>...</th>\n",
       "      <td>...</td>\n",
       "      <td>...</td>\n",
       "      <td>...</td>\n",
       "    </tr>\n",
       "    <tr>\n",
       "      <th>140970</th>\n",
       "      <td>False</td>\n",
       "      <td>-3.613638</td>\n",
       "      <td>009a4fb7229618f7d1c98945c47da717</td>\n",
       "    </tr>\n",
       "    <tr>\n",
       "      <th>27182</th>\n",
       "      <td>False</td>\n",
       "      <td>-1.219015</td>\n",
       "      <td>009a52e76bcc356b3cb69210baf85133</td>\n",
       "    </tr>\n",
       "    <tr>\n",
       "      <th>44417</th>\n",
       "      <td>False</td>\n",
       "      <td>-1.541838</td>\n",
       "      <td>009a8b358486c660414f3516998d2e01</td>\n",
       "    </tr>\n",
       "    <tr>\n",
       "      <th>15895</th>\n",
       "      <td>False</td>\n",
       "      <td>-0.940124</td>\n",
       "      <td>009a91adc398caee6503e5e2a59e01f9</td>\n",
       "    </tr>\n",
       "    <tr>\n",
       "      <th>100681</th>\n",
       "      <td>False</td>\n",
       "      <td>-2.606590</td>\n",
       "      <td>009a96410ad9509c81afab778b264ac8</td>\n",
       "    </tr>\n",
       "  </tbody>\n",
       "</table>\n",
       "<p>404 rows × 3 columns</p>\n",
       "</div>"
      ],
      "text/plain": [
       "       regions_MEX    Scores                              PRNs\n",
       "60467        False -1.828431  000041cd0abd9e197be4074a55b941b9\n",
       "113365       False -2.878930  00013ce794661a9693bbb187f3e00a76\n",
       "10813        False -0.762829  0001ab3b881ddc7f381df59daf55182c\n",
       "87164        False -2.335689  00024ea9d61d1c0337d275b553f2a82f\n",
       "2736         False -0.008255  00027775012fc72cba66cab016b7834c\n",
       "...            ...       ...                               ...\n",
       "140970       False -3.613638  009a4fb7229618f7d1c98945c47da717\n",
       "27182        False -1.219015  009a52e76bcc356b3cb69210baf85133\n",
       "44417        False -1.541838  009a8b358486c660414f3516998d2e01\n",
       "15895        False -0.940124  009a91adc398caee6503e5e2a59e01f9\n",
       "100681       False -2.606590  009a96410ad9509c81afab778b264ac8\n",
       "\n",
       "[404 rows x 3 columns]"
      ]
     },
     "execution_count": 19,
     "metadata": {},
     "output_type": "execute_result"
    }
   ],
   "source": [
    "prefix400 = WSR_conf_seq_module.generate_prefix_for_budget(PRN_permutation, 400, Z)\n",
    "prefix400"
   ]
  },
  {
   "cell_type": "code",
   "execution_count": 20,
   "id": "e584a5b4-112e-4646-a001-547a9643d52b",
   "metadata": {},
   "outputs": [
    {
     "data": {
      "text/html": [
       "<div>\n",
       "<style scoped>\n",
       "    .dataframe tbody tr th:only-of-type {\n",
       "        vertical-align: middle;\n",
       "    }\n",
       "\n",
       "    .dataframe tbody tr th {\n",
       "        vertical-align: top;\n",
       "    }\n",
       "\n",
       "    .dataframe thead th {\n",
       "        text-align: right;\n",
       "    }\n",
       "</style>\n",
       "<table border=\"1\" class=\"dataframe\">\n",
       "  <thead>\n",
       "    <tr style=\"text-align: right;\">\n",
       "      <th></th>\n",
       "      <th>regions_MEX</th>\n",
       "      <th>Scores</th>\n",
       "      <th>PRNs</th>\n",
       "    </tr>\n",
       "  </thead>\n",
       "  <tbody>\n",
       "    <tr>\n",
       "      <th>60467</th>\n",
       "      <td>False</td>\n",
       "      <td>-1.828431</td>\n",
       "      <td>000041cd0abd9e197be4074a55b941b9</td>\n",
       "    </tr>\n",
       "    <tr>\n",
       "      <th>113365</th>\n",
       "      <td>False</td>\n",
       "      <td>-2.878930</td>\n",
       "      <td>00013ce794661a9693bbb187f3e00a76</td>\n",
       "    </tr>\n",
       "    <tr>\n",
       "      <th>10813</th>\n",
       "      <td>False</td>\n",
       "      <td>-0.762829</td>\n",
       "      <td>0001ab3b881ddc7f381df59daf55182c</td>\n",
       "    </tr>\n",
       "    <tr>\n",
       "      <th>87164</th>\n",
       "      <td>False</td>\n",
       "      <td>-2.335689</td>\n",
       "      <td>00024ea9d61d1c0337d275b553f2a82f</td>\n",
       "    </tr>\n",
       "    <tr>\n",
       "      <th>2736</th>\n",
       "      <td>False</td>\n",
       "      <td>-0.008255</td>\n",
       "      <td>00027775012fc72cba66cab016b7834c</td>\n",
       "    </tr>\n",
       "    <tr>\n",
       "      <th>...</th>\n",
       "      <td>...</td>\n",
       "      <td>...</td>\n",
       "      <td>...</td>\n",
       "    </tr>\n",
       "    <tr>\n",
       "      <th>86654</th>\n",
       "      <td>False</td>\n",
       "      <td>-2.326002</td>\n",
       "      <td>027999f589a5fedcc79596d0bf9017a9</td>\n",
       "    </tr>\n",
       "    <tr>\n",
       "      <th>21422</th>\n",
       "      <td>False</td>\n",
       "      <td>-1.089395</td>\n",
       "      <td>0279da937ef9cd7d9a9b9f703ae3dd45</td>\n",
       "    </tr>\n",
       "    <tr>\n",
       "      <th>138359</th>\n",
       "      <td>False</td>\n",
       "      <td>-3.528538</td>\n",
       "      <td>0279e365c1d9db7d689363b1ea701db5</td>\n",
       "    </tr>\n",
       "    <tr>\n",
       "      <th>141736</th>\n",
       "      <td>False</td>\n",
       "      <td>-3.638677</td>\n",
       "      <td>027a13b08b9cc5658ea2bcaf8d811f4e</td>\n",
       "    </tr>\n",
       "    <tr>\n",
       "      <th>22173</th>\n",
       "      <td>False</td>\n",
       "      <td>-1.106977</td>\n",
       "      <td>027ab9cb83a6b16c26b9b587e3c25428</td>\n",
       "    </tr>\n",
       "  </tbody>\n",
       "</table>\n",
       "<p>1619 rows × 3 columns</p>\n",
       "</div>"
      ],
      "text/plain": [
       "       regions_MEX    Scores                              PRNs\n",
       "60467        False -1.828431  000041cd0abd9e197be4074a55b941b9\n",
       "113365       False -2.878930  00013ce794661a9693bbb187f3e00a76\n",
       "10813        False -0.762829  0001ab3b881ddc7f381df59daf55182c\n",
       "87164        False -2.335689  00024ea9d61d1c0337d275b553f2a82f\n",
       "2736         False -0.008255  00027775012fc72cba66cab016b7834c\n",
       "...            ...       ...                               ...\n",
       "86654        False -2.326002  027999f589a5fedcc79596d0bf9017a9\n",
       "21422        False -1.089395  0279da937ef9cd7d9a9b9f703ae3dd45\n",
       "138359       False -3.528538  0279e365c1d9db7d689363b1ea701db5\n",
       "141736       False -3.638677  027a13b08b9cc5658ea2bcaf8d811f4e\n",
       "22173        False -1.106977  027ab9cb83a6b16c26b9b587e3c25428\n",
       "\n",
       "[1619 rows x 3 columns]"
      ]
     },
     "execution_count": 20,
     "metadata": {},
     "output_type": "execute_result"
    }
   ],
   "source": [
    "prefix1600 = WSR_conf_seq_module.generate_prefix_for_budget(PRN_permutation, 1600, Z)\n",
    "prefix1600"
   ]
  },
  {
   "cell_type": "code",
   "execution_count": 21,
   "id": "38b4255c-8530-4935-ab1d-bcaf339eb501",
   "metadata": {},
   "outputs": [
    {
     "data": {
      "text/html": [
       "<div>\n",
       "<style scoped>\n",
       "    .dataframe tbody tr th:only-of-type {\n",
       "        vertical-align: middle;\n",
       "    }\n",
       "\n",
       "    .dataframe tbody tr th {\n",
       "        vertical-align: top;\n",
       "    }\n",
       "\n",
       "    .dataframe thead th {\n",
       "        text-align: right;\n",
       "    }\n",
       "</style>\n",
       "<table border=\"1\" class=\"dataframe\">\n",
       "  <thead>\n",
       "    <tr style=\"text-align: right;\">\n",
       "      <th></th>\n",
       "      <th>regions_MEX</th>\n",
       "      <th>Scores</th>\n",
       "      <th>PRNs</th>\n",
       "    </tr>\n",
       "  </thead>\n",
       "  <tbody>\n",
       "    <tr>\n",
       "      <th>60467</th>\n",
       "      <td>False</td>\n",
       "      <td>-1.828431</td>\n",
       "      <td>000041cd0abd9e197be4074a55b941b9</td>\n",
       "    </tr>\n",
       "    <tr>\n",
       "      <th>113365</th>\n",
       "      <td>False</td>\n",
       "      <td>-2.878930</td>\n",
       "      <td>00013ce794661a9693bbb187f3e00a76</td>\n",
       "    </tr>\n",
       "    <tr>\n",
       "      <th>10813</th>\n",
       "      <td>False</td>\n",
       "      <td>-0.762829</td>\n",
       "      <td>0001ab3b881ddc7f381df59daf55182c</td>\n",
       "    </tr>\n",
       "    <tr>\n",
       "      <th>87164</th>\n",
       "      <td>False</td>\n",
       "      <td>-2.335689</td>\n",
       "      <td>00024ea9d61d1c0337d275b553f2a82f</td>\n",
       "    </tr>\n",
       "    <tr>\n",
       "      <th>2736</th>\n",
       "      <td>False</td>\n",
       "      <td>-0.008255</td>\n",
       "      <td>00027775012fc72cba66cab016b7834c</td>\n",
       "    </tr>\n",
       "    <tr>\n",
       "      <th>...</th>\n",
       "      <td>...</td>\n",
       "      <td>...</td>\n",
       "      <td>...</td>\n",
       "    </tr>\n",
       "    <tr>\n",
       "      <th>96931</th>\n",
       "      <td>False</td>\n",
       "      <td>-2.529189</td>\n",
       "      <td>0a40dbc2c0ba365d1322a52f9566c9e4</td>\n",
       "    </tr>\n",
       "    <tr>\n",
       "      <th>8840</th>\n",
       "      <td>False</td>\n",
       "      <td>-0.676514</td>\n",
       "      <td>0a41170b8920a4bd19f4b12ebf6690a9</td>\n",
       "    </tr>\n",
       "    <tr>\n",
       "      <th>73175</th>\n",
       "      <td>False</td>\n",
       "      <td>-2.064951</td>\n",
       "      <td>0a421bce2bd91d8d6824e5c31c60ec00</td>\n",
       "    </tr>\n",
       "    <tr>\n",
       "      <th>18268</th>\n",
       "      <td>False</td>\n",
       "      <td>-1.007702</td>\n",
       "      <td>0a42c6eec322e8fe39d630ccff0abf92</td>\n",
       "    </tr>\n",
       "    <tr>\n",
       "      <th>63743</th>\n",
       "      <td>False</td>\n",
       "      <td>-1.888327</td>\n",
       "      <td>0a42e9d017c01dbdc35dd689277d1130</td>\n",
       "    </tr>\n",
       "  </tbody>\n",
       "</table>\n",
       "<p>6483 rows × 3 columns</p>\n",
       "</div>"
      ],
      "text/plain": [
       "       regions_MEX    Scores                              PRNs\n",
       "60467        False -1.828431  000041cd0abd9e197be4074a55b941b9\n",
       "113365       False -2.878930  00013ce794661a9693bbb187f3e00a76\n",
       "10813        False -0.762829  0001ab3b881ddc7f381df59daf55182c\n",
       "87164        False -2.335689  00024ea9d61d1c0337d275b553f2a82f\n",
       "2736         False -0.008255  00027775012fc72cba66cab016b7834c\n",
       "...            ...       ...                               ...\n",
       "96931        False -2.529189  0a40dbc2c0ba365d1322a52f9566c9e4\n",
       "8840         False -0.676514  0a41170b8920a4bd19f4b12ebf6690a9\n",
       "73175        False -2.064951  0a421bce2bd91d8d6824e5c31c60ec00\n",
       "18268        False -1.007702  0a42c6eec322e8fe39d630ccff0abf92\n",
       "63743        False -1.888327  0a42e9d017c01dbdc35dd689277d1130\n",
       "\n",
       "[6483 rows x 3 columns]"
      ]
     },
     "execution_count": 21,
     "metadata": {},
     "output_type": "execute_result"
    }
   ],
   "source": [
    "prefix6400 = WSR_conf_seq_module.generate_prefix_for_budget(PRN_permutation, 6400, Z)\n",
    "prefix6400"
   ]
  },
  {
   "cell_type": "code",
   "execution_count": 22,
   "id": "f612d0ea-8d7b-4f10-abfa-cadad773be06",
   "metadata": {},
   "outputs": [
    {
     "data": {
      "text/html": [
       "<div>\n",
       "<style scoped>\n",
       "    .dataframe tbody tr th:only-of-type {\n",
       "        vertical-align: middle;\n",
       "    }\n",
       "\n",
       "    .dataframe tbody tr th {\n",
       "        vertical-align: top;\n",
       "    }\n",
       "\n",
       "    .dataframe thead th {\n",
       "        text-align: right;\n",
       "    }\n",
       "</style>\n",
       "<table border=\"1\" class=\"dataframe\">\n",
       "  <thead>\n",
       "    <tr style=\"text-align: right;\">\n",
       "      <th></th>\n",
       "      <th>regions_MEX</th>\n",
       "      <th>Scores</th>\n",
       "      <th>PRNs</th>\n",
       "    </tr>\n",
       "  </thead>\n",
       "  <tbody>\n",
       "    <tr>\n",
       "      <th>60467</th>\n",
       "      <td>False</td>\n",
       "      <td>-1.828431</td>\n",
       "      <td>000041cd0abd9e197be4074a55b941b9</td>\n",
       "    </tr>\n",
       "    <tr>\n",
       "      <th>113365</th>\n",
       "      <td>False</td>\n",
       "      <td>-2.878930</td>\n",
       "      <td>00013ce794661a9693bbb187f3e00a76</td>\n",
       "    </tr>\n",
       "    <tr>\n",
       "      <th>10813</th>\n",
       "      <td>False</td>\n",
       "      <td>-0.762829</td>\n",
       "      <td>0001ab3b881ddc7f381df59daf55182c</td>\n",
       "    </tr>\n",
       "    <tr>\n",
       "      <th>87164</th>\n",
       "      <td>False</td>\n",
       "      <td>-2.335689</td>\n",
       "      <td>00024ea9d61d1c0337d275b553f2a82f</td>\n",
       "    </tr>\n",
       "    <tr>\n",
       "      <th>2736</th>\n",
       "      <td>False</td>\n",
       "      <td>-0.008255</td>\n",
       "      <td>00027775012fc72cba66cab016b7834c</td>\n",
       "    </tr>\n",
       "    <tr>\n",
       "      <th>...</th>\n",
       "      <td>...</td>\n",
       "      <td>...</td>\n",
       "      <td>...</td>\n",
       "    </tr>\n",
       "    <tr>\n",
       "      <th>99051</th>\n",
       "      <td>False</td>\n",
       "      <td>-2.573027</td>\n",
       "      <td>2953c72b81258cd80a99c940c4073b3f</td>\n",
       "    </tr>\n",
       "    <tr>\n",
       "      <th>8472</th>\n",
       "      <td>False</td>\n",
       "      <td>-0.658051</td>\n",
       "      <td>2953e1d5e744b98eb400146e25e64521</td>\n",
       "    </tr>\n",
       "    <tr>\n",
       "      <th>156219</th>\n",
       "      <td>False</td>\n",
       "      <td>-4.414428</td>\n",
       "      <td>295440b7894722527b7469a3c35740ea</td>\n",
       "    </tr>\n",
       "    <tr>\n",
       "      <th>52412</th>\n",
       "      <td>False</td>\n",
       "      <td>-1.685407</td>\n",
       "      <td>29545eaacae6fb53a3c0d5d4dd41245b</td>\n",
       "    </tr>\n",
       "    <tr>\n",
       "      <th>49955</th>\n",
       "      <td>False</td>\n",
       "      <td>-1.641159</td>\n",
       "      <td>29550e2ce36ca186163bc24ed5c52b66</td>\n",
       "    </tr>\n",
       "  </tbody>\n",
       "</table>\n",
       "<p>25903 rows × 3 columns</p>\n",
       "</div>"
      ],
      "text/plain": [
       "       regions_MEX    Scores                              PRNs\n",
       "60467        False -1.828431  000041cd0abd9e197be4074a55b941b9\n",
       "113365       False -2.878930  00013ce794661a9693bbb187f3e00a76\n",
       "10813        False -0.762829  0001ab3b881ddc7f381df59daf55182c\n",
       "87164        False -2.335689  00024ea9d61d1c0337d275b553f2a82f\n",
       "2736         False -0.008255  00027775012fc72cba66cab016b7834c\n",
       "...            ...       ...                               ...\n",
       "99051        False -2.573027  2953c72b81258cd80a99c940c4073b3f\n",
       "8472         False -0.658051  2953e1d5e744b98eb400146e25e64521\n",
       "156219       False -4.414428  295440b7894722527b7469a3c35740ea\n",
       "52412        False -1.685407  29545eaacae6fb53a3c0d5d4dd41245b\n",
       "49955        False -1.641159  29550e2ce36ca186163bc24ed5c52b66\n",
       "\n",
       "[25903 rows x 3 columns]"
      ]
     },
     "execution_count": 22,
     "metadata": {},
     "output_type": "execute_result"
    }
   ],
   "source": [
    "prefix25600 = WSR_conf_seq_module.generate_prefix_for_budget(PRN_permutation, 25600, Z)\n",
    "prefix25600"
   ]
  },
  {
   "cell_type": "code",
   "execution_count": 23,
   "id": "4606f597-1c3b-47bb-98b4-bbe54d2092e9",
   "metadata": {
    "tags": []
   },
   "outputs": [],
   "source": [
    "#generate a list of the 5 samples of sizes 100, 400, 1600, 6400, 25600\n",
    "prefix_list = [prefix100, prefix400, prefix1600, prefix6400, prefix25600]"
   ]
  },
  {
   "cell_type": "markdown",
   "id": "5c195d0e-c8d3-4178-b40e-cfe11f8ef30b",
   "metadata": {},
   "source": [
    "**Generate M and G values for each sample**"
   ]
  },
  {
   "cell_type": "code",
   "execution_count": 24,
   "id": "8358b2ea-873b-422b-a0b7-b4f1a43ce073",
   "metadata": {},
   "outputs": [
    {
     "data": {
      "text/plain": [
       "{'M': 100, 'M_plus': 0, 'M_minus': 100, 'G': 100, 'G_minus': 100, 'G_plus': 0}"
      ]
     },
     "execution_count": 24,
     "metadata": {},
     "output_type": "execute_result"
    }
   ],
   "source": [
    "Samp100mets = WSR_conf_seq_module.compute_M(prefix_list[0], Topic, Z)\n",
    "Samp100mets"
   ]
  },
  {
   "cell_type": "code",
   "execution_count": 25,
   "id": "a779befc-3ad0-46d8-ba29-41b959a4fccf",
   "metadata": {},
   "outputs": [
    {
     "data": {
      "text/plain": [
       "{'M': 404, 'M_plus': 4, 'M_minus': 400, 'G': 400, 'G_minus': 400, 'G_plus': 0}"
      ]
     },
     "execution_count": 25,
     "metadata": {},
     "output_type": "execute_result"
    }
   ],
   "source": [
    "Samp400mets = WSR_conf_seq_module.compute_M(prefix_list[1], Topic, Z)\n",
    "Samp400mets"
   ]
  },
  {
   "cell_type": "code",
   "execution_count": 26,
   "id": "f88ae919-d899-45bd-8d19-7af5999ae8a9",
   "metadata": {},
   "outputs": [
    {
     "data": {
      "text/plain": [
       "{'M': 1619,\n",
       " 'M_plus': 18,\n",
       " 'M_minus': 1601,\n",
       " 'G': 1600,\n",
       " 'G_minus': 1598,\n",
       " 'G_plus': 2}"
      ]
     },
     "execution_count": 26,
     "metadata": {},
     "output_type": "execute_result"
    }
   ],
   "source": [
    "Samp1600mets = WSR_conf_seq_module.compute_M(prefix_list[2], Topic, Z)\n",
    "Samp1600mets"
   ]
  },
  {
   "cell_type": "code",
   "execution_count": 27,
   "id": "155bc4f9-2c62-4e04-ac0d-fa1471b50dce",
   "metadata": {},
   "outputs": [
    {
     "data": {
      "text/plain": [
       "{'M': 6483,\n",
       " 'M_plus': 89,\n",
       " 'M_minus': 6394,\n",
       " 'G': 6400,\n",
       " 'G_minus': 6387,\n",
       " 'G_plus': 13}"
      ]
     },
     "execution_count": 27,
     "metadata": {},
     "output_type": "execute_result"
    }
   ],
   "source": [
    "Samp6400mets = WSR_conf_seq_module.compute_M(prefix_list[3], Topic, Z)\n",
    "Samp6400mets"
   ]
  },
  {
   "cell_type": "code",
   "execution_count": 28,
   "id": "9265c5f7-9346-4e1f-b180-af60e6d9e3d9",
   "metadata": {},
   "outputs": [
    {
     "data": {
      "text/plain": [
       "{'M': 25903,\n",
       " 'M_plus': 344,\n",
       " 'M_minus': 25559,\n",
       " 'G': 25600,\n",
       " 'G_minus': 25534,\n",
       " 'G_plus': 66}"
      ]
     },
     "execution_count": 28,
     "metadata": {},
     "output_type": "execute_result"
    }
   ],
   "source": [
    "Samp25600mets = WSR_conf_seq_module.compute_M(prefix_list[4], Topic, Z)\n",
    "Samp25600mets"
   ]
  },
  {
   "cell_type": "markdown",
   "id": "30af3196-ca7a-495e-9aac-561fbde3f031",
   "metadata": {},
   "source": [
    "**Combining the Prior and Posterior Distributions to get the Two-Sided Confidence Interval**"
   ]
  },
  {
   "cell_type": "code",
   "execution_count": 29,
   "id": "1aedaf68-39f3-4fa6-ac45-e30da128165a",
   "metadata": {},
   "outputs": [
    {
     "name": "stdout",
     "output_type": "stream",
     "text": [
      "Confidence set is an unbroken interval\n",
      "{'M': 100, 'M_plus': 0, 'M_minus': 100, 'G': 100, 'G_minus': 100, 'G_plus': 0, 'conf_upperUOSCI': 4828, 'conf_lowerUOSCI': 0}\n",
      "{'M': 100, 'M_plus': 0, 'M_minus': 100, 'G': 100, 'G_minus': 100, 'G_plus': 0, 'conf_upperUOSCI': 4828, 'conf_lowerUOSCI': 1679}\n"
     ]
    }
   ],
   "source": [
    "\n",
    "WSR_conf_seq_module.compute_WSR_approx_UOSCI(N, Samp100mets)\n",
    "WSR_conf_seq_module.prune_conf_intsUOSCI(Samp100mets, N, Z_minus, Z_plus)"
   ]
  },
  {
   "cell_type": "code",
   "execution_count": 30,
   "id": "9dbf4c09-0d18-4df8-912a-86583fbedd26",
   "metadata": {},
   "outputs": [
    {
     "name": "stdout",
     "output_type": "stream",
     "text": [
      "Confidence set is an unbroken interval\n",
      "{'M': 100, 'M_plus': 0, 'M_minus': 100, 'G': 100, 'G_minus': 100, 'G_plus': 0, 'conf_upperUOSCI': 4828, 'conf_lowerUOSCI': 1679, 'conf_upperTSCI': 11786, 'conf_lowerTSCI': 0}\n",
      "{'M': 100, 'M_plus': 0, 'M_minus': 100, 'G': 100, 'G_minus': 100, 'G_plus': 0, 'conf_upperUOSCI': 4828, 'conf_lowerUOSCI': 1679, 'conf_upperTSCI': 11786, 'conf_lowerTSCI': 1679}\n"
     ]
    }
   ],
   "source": [
    "\n",
    "WSR_conf_seq_module.compute_conf_intsTSCI(N, Samp100mets)\n",
    "WSR_conf_seq_module.prune_conf_intsTSCI(Samp100mets, N, Z_minus, Z_plus)"
   ]
  },
  {
   "cell_type": "code",
   "execution_count": 31,
   "id": "18b9b906-c75e-4c56-a276-e22fb72f0458",
   "metadata": {},
   "outputs": [
    {
     "name": "stdout",
     "output_type": "stream",
     "text": [
      "Confidence set is an unbroken interval\n",
      "{'M': 404, 'M_plus': 4, 'M_minus': 400, 'G': 400, 'G_minus': 400, 'G_plus': 0, 'conf_upperUOSCI': 6747, 'conf_lowerUOSCI': 100}\n",
      "{'M': 404, 'M_plus': 4, 'M_minus': 400, 'G': 400, 'G_minus': 400, 'G_plus': 0, 'conf_upperUOSCI': 6747, 'conf_lowerUOSCI': 1679}\n"
     ]
    }
   ],
   "source": [
    "\n",
    "WSR_conf_seq_module.compute_WSR_approx_UOSCI(N, Samp400mets)\n",
    "WSR_conf_seq_module.prune_conf_intsUOSCI(Samp400mets, N, Z_minus, Z_plus)"
   ]
  },
  {
   "cell_type": "code",
   "execution_count": 32,
   "id": "c4ad9a4b-d9d3-437c-be60-fafa6a738927",
   "metadata": {},
   "outputs": [
    {
     "name": "stdout",
     "output_type": "stream",
     "text": [
      "Confidence set is an unbroken interval\n",
      "{'M': 404, 'M_plus': 4, 'M_minus': 400, 'G': 400, 'G_minus': 400, 'G_plus': 0, 'conf_upperUOSCI': 6747, 'conf_lowerUOSCI': 1679, 'conf_upperTSCI': 6735, 'conf_lowerTSCI': 101}\n",
      "{'M': 404, 'M_plus': 4, 'M_minus': 400, 'G': 400, 'G_minus': 400, 'G_plus': 0, 'conf_upperUOSCI': 6747, 'conf_lowerUOSCI': 1679, 'conf_upperTSCI': 6735, 'conf_lowerTSCI': 1679}\n"
     ]
    }
   ],
   "source": [
    "\n",
    "WSR_conf_seq_module.compute_conf_intsTSCI(N, Samp400mets)\n",
    "WSR_conf_seq_module.prune_conf_intsTSCI(Samp400mets, N, Z_minus, Z_plus)"
   ]
  },
  {
   "cell_type": "code",
   "execution_count": 33,
   "id": "92b618ac-5979-462d-b947-c6f85be1798f",
   "metadata": {},
   "outputs": [
    {
     "name": "stdout",
     "output_type": "stream",
     "text": [
      "Confidence set is an unbroken interval\n",
      "{'M': 1619, 'M_plus': 18, 'M_minus': 1601, 'G': 1600, 'G_minus': 1598, 'G_plus': 2, 'conf_upperUOSCI': 4031, 'conf_lowerUOSCI': 585}\n",
      "{'M': 1619, 'M_plus': 18, 'M_minus': 1601, 'G': 1600, 'G_minus': 1598, 'G_plus': 2, 'conf_upperUOSCI': 4031, 'conf_lowerUOSCI': 1681}\n"
     ]
    }
   ],
   "source": [
    "\n",
    "WSR_conf_seq_module.compute_WSR_approx_UOSCI(N, Samp1600mets)\n",
    "WSR_conf_seq_module.prune_conf_intsUOSCI(Samp1600mets, N, Z_minus, Z_plus)"
   ]
  },
  {
   "cell_type": "code",
   "execution_count": 34,
   "id": "2db74319-875d-4bb9-b935-e26dddf17e07",
   "metadata": {},
   "outputs": [
    {
     "name": "stdout",
     "output_type": "stream",
     "text": [
      "Confidence set is an unbroken interval\n",
      "{'M': 1619, 'M_plus': 18, 'M_minus': 1601, 'G': 1600, 'G_minus': 1598, 'G_plus': 2, 'conf_upperUOSCI': 4031, 'conf_lowerUOSCI': 1681, 'conf_upperTSCI': 4006, 'conf_lowerTSCI': 592}\n",
      "{'M': 1619, 'M_plus': 18, 'M_minus': 1601, 'G': 1600, 'G_minus': 1598, 'G_plus': 2, 'conf_upperUOSCI': 4031, 'conf_lowerUOSCI': 1681, 'conf_upperTSCI': 4006, 'conf_lowerTSCI': 1681}\n"
     ]
    }
   ],
   "source": [
    "\n",
    "WSR_conf_seq_module.compute_conf_intsTSCI(N, Samp1600mets)\n",
    "WSR_conf_seq_module.prune_conf_intsTSCI(Samp1600mets, N, Z_minus, Z_plus)"
   ]
  },
  {
   "cell_type": "code",
   "execution_count": 35,
   "id": "120b0569-1892-4e74-a47e-ca5e49bb3471",
   "metadata": {},
   "outputs": [
    {
     "name": "stdout",
     "output_type": "stream",
     "text": [
      "Confidence set is an unbroken interval\n",
      "{'M': 6483, 'M_plus': 89, 'M_minus': 6394, 'G': 6400, 'G_minus': 6387, 'G_plus': 13, 'conf_upperUOSCI': 3319, 'conf_lowerUOSCI': 1380}\n",
      "{'M': 6483, 'M_plus': 89, 'M_minus': 6394, 'G': 6400, 'G_minus': 6387, 'G_plus': 13, 'conf_upperUOSCI': 3319, 'conf_lowerUOSCI': 1692}\n"
     ]
    }
   ],
   "source": [
    "\n",
    "WSR_conf_seq_module.compute_WSR_approx_UOSCI(N, Samp6400mets)\n",
    "WSR_conf_seq_module.prune_conf_intsUOSCI(Samp6400mets, N, Z_minus, Z_plus)"
   ]
  },
  {
   "cell_type": "code",
   "execution_count": 36,
   "id": "cce70b68-4d1e-4a82-9906-81b04cb3b4ac",
   "metadata": {},
   "outputs": [
    {
     "name": "stdout",
     "output_type": "stream",
     "text": [
      "Confidence set is an unbroken interval\n",
      "{'M': 6483, 'M_plus': 89, 'M_minus': 6394, 'G': 6400, 'G_minus': 6387, 'G_plus': 13, 'conf_upperUOSCI': 3319, 'conf_lowerUOSCI': 1692, 'conf_upperTSCI': 3294, 'conf_lowerTSCI': 1394}\n",
      "{'M': 6483, 'M_plus': 89, 'M_minus': 6394, 'G': 6400, 'G_minus': 6387, 'G_plus': 13, 'conf_upperUOSCI': 3319, 'conf_lowerUOSCI': 1692, 'conf_upperTSCI': 3294, 'conf_lowerTSCI': 1692}\n"
     ]
    }
   ],
   "source": [
    "\n",
    "WSR_conf_seq_module.compute_conf_intsTSCI(N, Samp6400mets)\n",
    "WSR_conf_seq_module.prune_conf_intsTSCI(Samp6400mets, N, Z_minus, Z_plus)"
   ]
  },
  {
   "cell_type": "code",
   "execution_count": 37,
   "id": "d265c0d4-21a8-48f1-8a04-f0e77445b5e9",
   "metadata": {},
   "outputs": [
    {
     "name": "stdout",
     "output_type": "stream",
     "text": [
      "Confidence set is an unbroken interval\n",
      "{'M': 25903, 'M_plus': 344, 'M_minus': 25559, 'G': 25600, 'G_minus': 25534, 'G_plus': 66, 'conf_upperUOSCI': 2635, 'conf_lowerUOSCI': 1710}\n",
      "{'M': 25903, 'M_plus': 344, 'M_minus': 25559, 'G': 25600, 'G_minus': 25534, 'G_plus': 66, 'conf_upperUOSCI': 2635, 'conf_lowerUOSCI': 1745}\n"
     ]
    }
   ],
   "source": [
    "\n",
    "WSR_conf_seq_module.compute_WSR_approx_UOSCI(N, Samp25600mets)\n",
    "WSR_conf_seq_module.prune_conf_intsUOSCI(Samp25600mets, N, Z_minus, Z_plus)"
   ]
  },
  {
   "cell_type": "code",
   "execution_count": 38,
   "id": "7ceb26fc-6395-4622-9708-bfd5eace35f9",
   "metadata": {},
   "outputs": [
    {
     "name": "stdout",
     "output_type": "stream",
     "text": [
      "Confidence set is an unbroken interval\n",
      "{'M': 25903, 'M_plus': 344, 'M_minus': 25559, 'G': 25600, 'G_minus': 25534, 'G_plus': 66, 'conf_upperUOSCI': 2635, 'conf_lowerUOSCI': 1745, 'conf_upperTSCI': 2626, 'conf_lowerTSCI': 1716}\n",
      "{'M': 25903, 'M_plus': 344, 'M_minus': 25559, 'G': 25600, 'G_minus': 25534, 'G_plus': 66, 'conf_upperUOSCI': 2635, 'conf_lowerUOSCI': 1745, 'conf_upperTSCI': 2626, 'conf_lowerTSCI': 1745}\n"
     ]
    }
   ],
   "source": [
    "\n",
    "WSR_conf_seq_module.compute_conf_intsTSCI(N, Samp25600mets)\n",
    "WSR_conf_seq_module.prune_conf_intsTSCI(Samp25600mets, N, Z_minus, Z_plus)"
   ]
  },
  {
   "cell_type": "markdown",
   "id": "9b6412f5-4b0e-46be-b0d2-1007e0561c7a",
   "metadata": {},
   "source": [
    "**Compute one-sided confidence interval on recall**"
   ]
  },
  {
   "cell_type": "code",
   "execution_count": 39,
   "id": "155e91e3-3fac-435c-b3cc-d9671a72469c",
   "metadata": {},
   "outputs": [
    {
     "name": "stdout",
     "output_type": "stream",
     "text": [
      "0.34776304888152443\n",
      "1.0\n"
     ]
    }
   ],
   "source": [
    "WSR_conf_seq_module.compute_UOSCI_recall(Samp100mets, Z_plus)"
   ]
  },
  {
   "cell_type": "code",
   "execution_count": 40,
   "id": "a2e9c83d-7cbe-497c-a5ff-27f997c76ece",
   "metadata": {},
   "outputs": [
    {
     "name": "stdout",
     "output_type": "stream",
     "text": [
      "0.24885134133689046\n",
      "1.0\n"
     ]
    }
   ],
   "source": [
    "WSR_conf_seq_module.compute_UOSCI_recall(Samp400mets, Z_plus)"
   ]
  },
  {
   "cell_type": "code",
   "execution_count": 41,
   "id": "5e833cde-838f-4011-af7e-3603cf34677b",
   "metadata": {},
   "outputs": [
    {
     "name": "stdout",
     "output_type": "stream",
     "text": [
      "0.41701810965021086\n",
      "1.0\n"
     ]
    }
   ],
   "source": [
    "WSR_conf_seq_module.compute_UOSCI_recall(Samp1600mets, Z_plus)"
   ]
  },
  {
   "cell_type": "code",
   "execution_count": 42,
   "id": "c1353e88-378a-45a3-b7f9-5e3c7b2ca3ce",
   "metadata": {},
   "outputs": [
    {
     "name": "stdout",
     "output_type": "stream",
     "text": [
      "0.509792106056041\n",
      "1.0\n"
     ]
    }
   ],
   "source": [
    "WSR_conf_seq_module.compute_UOSCI_recall(Samp6400mets, Z_plus)"
   ]
  },
  {
   "cell_type": "code",
   "execution_count": 43,
   "id": "39da4e69-3781-42c7-86cf-9d9c29e1745f",
   "metadata": {},
   "outputs": [
    {
     "name": "stdout",
     "output_type": "stream",
     "text": [
      "0.6622390891840607\n",
      "1.0\n"
     ]
    }
   ],
   "source": [
    "WSR_conf_seq_module.compute_UOSCI_recall(Samp25600mets, Z_plus)"
   ]
  },
  {
   "cell_type": "markdown",
   "id": "8ccf47f4-f81e-4938-9728-0437a3df6317",
   "metadata": {},
   "source": [
    "**Compute two-sided confidence interval on recall**"
   ]
  },
  {
   "cell_type": "code",
   "execution_count": 44,
   "id": "fd84e2f7-f589-4a93-b065-d6e06230adb6",
   "metadata": {},
   "outputs": [
    {
     "name": "stdout",
     "output_type": "stream",
     "text": [
      "0.14245715255387748\n",
      "1.0\n"
     ]
    }
   ],
   "source": [
    "WSR_conf_seq_module.compute_TSCI_recall(Samp100mets, Z_plus)"
   ]
  },
  {
   "cell_type": "code",
   "execution_count": 45,
   "id": "7b76c289-34ae-4be0-8b9f-7647e9e9d72c",
   "metadata": {},
   "outputs": [
    {
     "name": "stdout",
     "output_type": "stream",
     "text": [
      "0.24929472902746844\n",
      "1.0\n"
     ]
    }
   ],
   "source": [
    "WSR_conf_seq_module.compute_TSCI_recall(Samp400mets, Z_plus)"
   ]
  },
  {
   "cell_type": "code",
   "execution_count": 46,
   "id": "02f34171-85a4-469e-a00b-69f540087d39",
   "metadata": {},
   "outputs": [
    {
     "name": "stdout",
     "output_type": "stream",
     "text": [
      "0.4196205691462806\n",
      "1.0\n"
     ]
    }
   ],
   "source": [
    "WSR_conf_seq_module.compute_TSCI_recall(Samp1600mets, Z_plus)"
   ]
  },
  {
   "cell_type": "code",
   "execution_count": 47,
   "id": "66fc4d17-4d2c-4d16-9f11-5c69771f1f28",
   "metadata": {},
   "outputs": [
    {
     "name": "stdout",
     "output_type": "stream",
     "text": [
      "0.5136612021857924\n",
      "1.0\n"
     ]
    }
   ],
   "source": [
    "WSR_conf_seq_module.compute_TSCI_recall(Samp6400mets, Z_plus)"
   ]
  },
  {
   "cell_type": "code",
   "execution_count": 48,
   "id": "c91426d6-a2ed-4cd7-8408-f254b1889576",
   "metadata": {},
   "outputs": [
    {
     "name": "stdout",
     "output_type": "stream",
     "text": [
      "0.6645087585681645\n",
      "1.0\n"
     ]
    }
   ],
   "source": [
    "WSR_conf_seq_module.compute_TSCI_recall(Samp25600mets, Z_plus)"
   ]
  },
  {
   "cell_type": "code",
   "execution_count": 49,
   "id": "50084a95-3b29-47b8-9571-3d3d77043d7c",
   "metadata": {},
   "outputs": [],
   "source": [
    "import pprint"
   ]
  },
  {
   "cell_type": "code",
   "execution_count": 50,
   "id": "f294b064-5dfd-4cfd-9605-139bdbe2a00a",
   "metadata": {},
   "outputs": [
    {
     "name": "stdout",
     "output_type": "stream",
     "text": [
      "{'M': 100,\n",
      " 'M_plus': 0,\n",
      " 'M_minus': 100,\n",
      " 'G': 100,\n",
      " 'G_minus': 100,\n",
      " 'G_plus': 0,\n",
      " 'conf_upperUOSCI': 4828,\n",
      " 'conf_lowerUOSCI': 1679,\n",
      " 'conf_upperTSCI': 11786,\n",
      " 'conf_lowerTSCI': 1679,\n",
      " 'UOSCI_RECALL-lower': 0.34776304888152443,\n",
      " 'UOSCI_RECALL-upper': 1.0,\n",
      " 'TSCI_RECALL-lower': 0.14245715255387748,\n",
      " 'TSCI_RECALL-upper': 1.0}\n"
     ]
    }
   ],
   "source": [
    "pprint.pp(Samp100mets)"
   ]
  },
  {
   "cell_type": "code",
   "execution_count": 51,
   "id": "42b93b49-b358-4e6c-b38a-6834768ad6cd",
   "metadata": {},
   "outputs": [
    {
     "name": "stdout",
     "output_type": "stream",
     "text": [
      "{'M': 404,\n",
      " 'M_plus': 4,\n",
      " 'M_minus': 400,\n",
      " 'G': 400,\n",
      " 'G_minus': 400,\n",
      " 'G_plus': 0,\n",
      " 'conf_upperUOSCI': 6747,\n",
      " 'conf_lowerUOSCI': 1679,\n",
      " 'conf_upperTSCI': 6735,\n",
      " 'conf_lowerTSCI': 1679,\n",
      " 'UOSCI_RECALL-lower': 0.24885134133689046,\n",
      " 'UOSCI_RECALL-upper': 1.0,\n",
      " 'TSCI_RECALL-lower': 0.24929472902746844,\n",
      " 'TSCI_RECALL-upper': 1.0}\n"
     ]
    }
   ],
   "source": [
    "pprint.pp(Samp400mets)"
   ]
  },
  {
   "cell_type": "code",
   "execution_count": 52,
   "id": "dae44a99-9875-427c-83d7-1f16780b3c13",
   "metadata": {},
   "outputs": [
    {
     "name": "stdout",
     "output_type": "stream",
     "text": [
      "{'M': 1619,\n",
      " 'M_plus': 18,\n",
      " 'M_minus': 1601,\n",
      " 'G': 1600,\n",
      " 'G_minus': 1598,\n",
      " 'G_plus': 2,\n",
      " 'conf_upperUOSCI': 4031,\n",
      " 'conf_lowerUOSCI': 1681,\n",
      " 'conf_upperTSCI': 4006,\n",
      " 'conf_lowerTSCI': 1681,\n",
      " 'UOSCI_RECALL-lower': 0.41701810965021086,\n",
      " 'UOSCI_RECALL-upper': 1.0,\n",
      " 'TSCI_RECALL-lower': 0.4196205691462806,\n",
      " 'TSCI_RECALL-upper': 1.0}\n"
     ]
    }
   ],
   "source": [
    "pprint.pp(Samp1600mets)"
   ]
  },
  {
   "cell_type": "code",
   "execution_count": 53,
   "id": "e864dc2e-7657-4cf2-8706-8eaef5832865",
   "metadata": {},
   "outputs": [
    {
     "name": "stdout",
     "output_type": "stream",
     "text": [
      "{'M': 6483,\n",
      " 'M_plus': 89,\n",
      " 'M_minus': 6394,\n",
      " 'G': 6400,\n",
      " 'G_minus': 6387,\n",
      " 'G_plus': 13,\n",
      " 'conf_upperUOSCI': 3319,\n",
      " 'conf_lowerUOSCI': 1692,\n",
      " 'conf_upperTSCI': 3294,\n",
      " 'conf_lowerTSCI': 1692,\n",
      " 'UOSCI_RECALL-lower': 0.509792106056041,\n",
      " 'UOSCI_RECALL-upper': 1.0,\n",
      " 'TSCI_RECALL-lower': 0.5136612021857924,\n",
      " 'TSCI_RECALL-upper': 1.0}\n"
     ]
    }
   ],
   "source": [
    "pprint.pp(Samp6400mets)"
   ]
  },
  {
   "cell_type": "code",
   "execution_count": 54,
   "id": "b5e446b3-b68e-491a-aded-ffc8bca6bbd0",
   "metadata": {},
   "outputs": [
    {
     "name": "stdout",
     "output_type": "stream",
     "text": [
      "{'M': 25903,\n",
      " 'M_plus': 344,\n",
      " 'M_minus': 25559,\n",
      " 'G': 25600,\n",
      " 'G_minus': 25534,\n",
      " 'G_plus': 66,\n",
      " 'conf_upperUOSCI': 2635,\n",
      " 'conf_lowerUOSCI': 1745,\n",
      " 'conf_upperTSCI': 2626,\n",
      " 'conf_lowerTSCI': 1745,\n",
      " 'UOSCI_RECALL-lower': 0.6622390891840607,\n",
      " 'UOSCI_RECALL-upper': 1.0,\n",
      " 'TSCI_RECALL-lower': 0.6645087585681645,\n",
      " 'TSCI_RECALL-upper': 1.0}\n"
     ]
    }
   ],
   "source": [
    "pprint.pp(Samp25600mets)"
   ]
  },
  {
   "cell_type": "markdown",
   "id": "b383ebc8-e026-458c-8ed5-04ef47684ef5",
   "metadata": {},
   "source": [
    "**Generate samples for the OneShot-URE confidence intervals**"
   ]
  },
  {
   "cell_type": "code",
   "execution_count": 55,
   "id": "f4404abb-992f-45eb-97cc-d2fccca5274d",
   "metadata": {},
   "outputs": [
    {
     "data": {
      "text/html": [
       "<div>\n",
       "<style scoped>\n",
       "    .dataframe tbody tr th:only-of-type {\n",
       "        vertical-align: middle;\n",
       "    }\n",
       "\n",
       "    .dataframe tbody tr th {\n",
       "        vertical-align: top;\n",
       "    }\n",
       "\n",
       "    .dataframe thead th {\n",
       "        text-align: right;\n",
       "    }\n",
       "</style>\n",
       "<table border=\"1\" class=\"dataframe\">\n",
       "  <thead>\n",
       "    <tr style=\"text-align: right;\">\n",
       "      <th></th>\n",
       "      <th>regions_MEX</th>\n",
       "      <th>Scores</th>\n",
       "      <th>PRNs</th>\n",
       "    </tr>\n",
       "  </thead>\n",
       "  <tbody>\n",
       "    <tr>\n",
       "      <th>60467</th>\n",
       "      <td>False</td>\n",
       "      <td>-1.828431</td>\n",
       "      <td>000041cd0abd9e197be4074a55b941b9</td>\n",
       "    </tr>\n",
       "    <tr>\n",
       "      <th>113365</th>\n",
       "      <td>False</td>\n",
       "      <td>-2.878930</td>\n",
       "      <td>00013ce794661a9693bbb187f3e00a76</td>\n",
       "    </tr>\n",
       "    <tr>\n",
       "      <th>10813</th>\n",
       "      <td>False</td>\n",
       "      <td>-0.762829</td>\n",
       "      <td>0001ab3b881ddc7f381df59daf55182c</td>\n",
       "    </tr>\n",
       "    <tr>\n",
       "      <th>87164</th>\n",
       "      <td>False</td>\n",
       "      <td>-2.335689</td>\n",
       "      <td>00024ea9d61d1c0337d275b553f2a82f</td>\n",
       "    </tr>\n",
       "    <tr>\n",
       "      <th>2736</th>\n",
       "      <td>False</td>\n",
       "      <td>-0.008255</td>\n",
       "      <td>00027775012fc72cba66cab016b7834c</td>\n",
       "    </tr>\n",
       "    <tr>\n",
       "      <th>...</th>\n",
       "      <td>...</td>\n",
       "      <td>...</td>\n",
       "      <td>...</td>\n",
       "    </tr>\n",
       "    <tr>\n",
       "      <th>96848</th>\n",
       "      <td>False</td>\n",
       "      <td>-2.527787</td>\n",
       "      <td>fffdb6cd73541a6de46778acfe6eb857</td>\n",
       "    </tr>\n",
       "    <tr>\n",
       "      <th>96692</th>\n",
       "      <td>False</td>\n",
       "      <td>-2.524914</td>\n",
       "      <td>fffe0a86f7b1265375b2feb5096dcf86</td>\n",
       "    </tr>\n",
       "    <tr>\n",
       "      <th>133815</th>\n",
       "      <td>False</td>\n",
       "      <td>-3.394372</td>\n",
       "      <td>ffff61684a3d561ce1f38139eeeef0ae</td>\n",
       "    </tr>\n",
       "    <tr>\n",
       "      <th>153542</th>\n",
       "      <td>False</td>\n",
       "      <td>-4.196027</td>\n",
       "      <td>ffff84f3b6d0d7bb1f0fd098e9f5cbc8</td>\n",
       "    </tr>\n",
       "    <tr>\n",
       "      <th>65890</th>\n",
       "      <td>False</td>\n",
       "      <td>-1.927708</td>\n",
       "      <td>ffff886de21ab35721a14ff976a9c311</td>\n",
       "    </tr>\n",
       "  </tbody>\n",
       "</table>\n",
       "<p>160882 rows × 3 columns</p>\n",
       "</div>"
      ],
      "text/plain": [
       "       regions_MEX    Scores                              PRNs\n",
       "60467        False -1.828431  000041cd0abd9e197be4074a55b941b9\n",
       "113365       False -2.878930  00013ce794661a9693bbb187f3e00a76\n",
       "10813        False -0.762829  0001ab3b881ddc7f381df59daf55182c\n",
       "87164        False -2.335689  00024ea9d61d1c0337d275b553f2a82f\n",
       "2736         False -0.008255  00027775012fc72cba66cab016b7834c\n",
       "...            ...       ...                               ...\n",
       "96848        False -2.527787  fffdb6cd73541a6de46778acfe6eb857\n",
       "96692        False -2.524914  fffe0a86f7b1265375b2feb5096dcf86\n",
       "133815       False -3.394372  ffff61684a3d561ce1f38139eeeef0ae\n",
       "153542       False -4.196027  ffff84f3b6d0d7bb1f0fd098e9f5cbc8\n",
       "65890        False -1.927708  ffff886de21ab35721a14ff976a9c311\n",
       "\n",
       "[160882 rows x 3 columns]"
      ]
     },
     "execution_count": 55,
     "metadata": {},
     "output_type": "execute_result"
    }
   ],
   "source": [
    "#sorting the collection by the PRN value\n",
    "PRN_permutation = doc_collection.sort_values(by = ['PRNs'], axis = 0)\n",
    "PRN_permutation"
   ]
  },
  {
   "cell_type": "code",
   "execution_count": 56,
   "id": "6e1fddb0-f0eb-4866-b921-d8fb801e8017",
   "metadata": {},
   "outputs": [
    {
     "data": {
      "text/html": [
       "<div>\n",
       "<style scoped>\n",
       "    .dataframe tbody tr th:only-of-type {\n",
       "        vertical-align: middle;\n",
       "    }\n",
       "\n",
       "    .dataframe tbody tr th {\n",
       "        vertical-align: top;\n",
       "    }\n",
       "\n",
       "    .dataframe thead th {\n",
       "        text-align: right;\n",
       "    }\n",
       "</style>\n",
       "<table border=\"1\" class=\"dataframe\">\n",
       "  <thead>\n",
       "    <tr style=\"text-align: right;\">\n",
       "      <th></th>\n",
       "      <th>regions_MEX</th>\n",
       "      <th>Scores</th>\n",
       "      <th>PRNs</th>\n",
       "    </tr>\n",
       "  </thead>\n",
       "  <tbody>\n",
       "    <tr>\n",
       "      <th>60467</th>\n",
       "      <td>False</td>\n",
       "      <td>-1.828431</td>\n",
       "      <td>000041cd0abd9e197be4074a55b941b9</td>\n",
       "    </tr>\n",
       "    <tr>\n",
       "      <th>113365</th>\n",
       "      <td>False</td>\n",
       "      <td>-2.878930</td>\n",
       "      <td>00013ce794661a9693bbb187f3e00a76</td>\n",
       "    </tr>\n",
       "    <tr>\n",
       "      <th>10813</th>\n",
       "      <td>False</td>\n",
       "      <td>-0.762829</td>\n",
       "      <td>0001ab3b881ddc7f381df59daf55182c</td>\n",
       "    </tr>\n",
       "    <tr>\n",
       "      <th>87164</th>\n",
       "      <td>False</td>\n",
       "      <td>-2.335689</td>\n",
       "      <td>00024ea9d61d1c0337d275b553f2a82f</td>\n",
       "    </tr>\n",
       "    <tr>\n",
       "      <th>2736</th>\n",
       "      <td>False</td>\n",
       "      <td>-0.008255</td>\n",
       "      <td>00027775012fc72cba66cab016b7834c</td>\n",
       "    </tr>\n",
       "    <tr>\n",
       "      <th>...</th>\n",
       "      <td>...</td>\n",
       "      <td>...</td>\n",
       "      <td>...</td>\n",
       "    </tr>\n",
       "    <tr>\n",
       "      <th>132441</th>\n",
       "      <td>False</td>\n",
       "      <td>-3.355815</td>\n",
       "      <td>002363afb912eaf9baa378c89a125f67</td>\n",
       "    </tr>\n",
       "    <tr>\n",
       "      <th>25040</th>\n",
       "      <td>False</td>\n",
       "      <td>-1.171436</td>\n",
       "      <td>0024382f1f910bbeff420e994c5cf4ad</td>\n",
       "    </tr>\n",
       "    <tr>\n",
       "      <th>156688</th>\n",
       "      <td>False</td>\n",
       "      <td>-4.460246</td>\n",
       "      <td>002456a02852da784f68747e7c51bf8f</td>\n",
       "    </tr>\n",
       "    <tr>\n",
       "      <th>81542</th>\n",
       "      <td>False</td>\n",
       "      <td>-2.224892</td>\n",
       "      <td>00245aec402d07ac3cc953d4bd20c5d6</td>\n",
       "    </tr>\n",
       "    <tr>\n",
       "      <th>50585</th>\n",
       "      <td>False</td>\n",
       "      <td>-1.652036</td>\n",
       "      <td>0024c082840acb248c4ba76cb7c9e24b</td>\n",
       "    </tr>\n",
       "  </tbody>\n",
       "</table>\n",
       "<p>100 rows × 3 columns</p>\n",
       "</div>"
      ],
      "text/plain": [
       "       regions_MEX    Scores                              PRNs\n",
       "60467        False -1.828431  000041cd0abd9e197be4074a55b941b9\n",
       "113365       False -2.878930  00013ce794661a9693bbb187f3e00a76\n",
       "10813        False -0.762829  0001ab3b881ddc7f381df59daf55182c\n",
       "87164        False -2.335689  00024ea9d61d1c0337d275b553f2a82f\n",
       "2736         False -0.008255  00027775012fc72cba66cab016b7834c\n",
       "...            ...       ...                               ...\n",
       "132441       False -3.355815  002363afb912eaf9baa378c89a125f67\n",
       "25040        False -1.171436  0024382f1f910bbeff420e994c5cf4ad\n",
       "156688       False -4.460246  002456a02852da784f68747e7c51bf8f\n",
       "81542        False -2.224892  00245aec402d07ac3cc953d4bd20c5d6\n",
       "50585        False -1.652036  0024c082840acb248c4ba76cb7c9e24b\n",
       "\n",
       "[100 rows x 3 columns]"
      ]
     },
     "execution_count": 56,
     "metadata": {},
     "output_type": "execute_result"
    }
   ],
   "source": [
    "UREsample100 = WSR_conf_seq_module.UREgenerate_sample(PRN_permutation, 100, Z)\n",
    "UREsample100"
   ]
  },
  {
   "cell_type": "code",
   "execution_count": 57,
   "id": "4f0076d9-7a16-41e6-b8e6-52a4eeb76ac8",
   "metadata": {},
   "outputs": [
    {
     "data": {
      "text/html": [
       "<div>\n",
       "<style scoped>\n",
       "    .dataframe tbody tr th:only-of-type {\n",
       "        vertical-align: middle;\n",
       "    }\n",
       "\n",
       "    .dataframe tbody tr th {\n",
       "        vertical-align: top;\n",
       "    }\n",
       "\n",
       "    .dataframe thead th {\n",
       "        text-align: right;\n",
       "    }\n",
       "</style>\n",
       "<table border=\"1\" class=\"dataframe\">\n",
       "  <thead>\n",
       "    <tr style=\"text-align: right;\">\n",
       "      <th></th>\n",
       "      <th>regions_MEX</th>\n",
       "      <th>Scores</th>\n",
       "      <th>PRNs</th>\n",
       "    </tr>\n",
       "  </thead>\n",
       "  <tbody>\n",
       "    <tr>\n",
       "      <th>60467</th>\n",
       "      <td>False</td>\n",
       "      <td>-1.828431</td>\n",
       "      <td>000041cd0abd9e197be4074a55b941b9</td>\n",
       "    </tr>\n",
       "    <tr>\n",
       "      <th>113365</th>\n",
       "      <td>False</td>\n",
       "      <td>-2.878930</td>\n",
       "      <td>00013ce794661a9693bbb187f3e00a76</td>\n",
       "    </tr>\n",
       "    <tr>\n",
       "      <th>10813</th>\n",
       "      <td>False</td>\n",
       "      <td>-0.762829</td>\n",
       "      <td>0001ab3b881ddc7f381df59daf55182c</td>\n",
       "    </tr>\n",
       "    <tr>\n",
       "      <th>87164</th>\n",
       "      <td>False</td>\n",
       "      <td>-2.335689</td>\n",
       "      <td>00024ea9d61d1c0337d275b553f2a82f</td>\n",
       "    </tr>\n",
       "    <tr>\n",
       "      <th>2736</th>\n",
       "      <td>False</td>\n",
       "      <td>-0.008255</td>\n",
       "      <td>00027775012fc72cba66cab016b7834c</td>\n",
       "    </tr>\n",
       "    <tr>\n",
       "      <th>...</th>\n",
       "      <td>...</td>\n",
       "      <td>...</td>\n",
       "      <td>...</td>\n",
       "    </tr>\n",
       "    <tr>\n",
       "      <th>140970</th>\n",
       "      <td>False</td>\n",
       "      <td>-3.613638</td>\n",
       "      <td>009a4fb7229618f7d1c98945c47da717</td>\n",
       "    </tr>\n",
       "    <tr>\n",
       "      <th>27182</th>\n",
       "      <td>False</td>\n",
       "      <td>-1.219015</td>\n",
       "      <td>009a52e76bcc356b3cb69210baf85133</td>\n",
       "    </tr>\n",
       "    <tr>\n",
       "      <th>44417</th>\n",
       "      <td>False</td>\n",
       "      <td>-1.541838</td>\n",
       "      <td>009a8b358486c660414f3516998d2e01</td>\n",
       "    </tr>\n",
       "    <tr>\n",
       "      <th>15895</th>\n",
       "      <td>False</td>\n",
       "      <td>-0.940124</td>\n",
       "      <td>009a91adc398caee6503e5e2a59e01f9</td>\n",
       "    </tr>\n",
       "    <tr>\n",
       "      <th>100681</th>\n",
       "      <td>False</td>\n",
       "      <td>-2.606590</td>\n",
       "      <td>009a96410ad9509c81afab778b264ac8</td>\n",
       "    </tr>\n",
       "  </tbody>\n",
       "</table>\n",
       "<p>400 rows × 3 columns</p>\n",
       "</div>"
      ],
      "text/plain": [
       "       regions_MEX    Scores                              PRNs\n",
       "60467        False -1.828431  000041cd0abd9e197be4074a55b941b9\n",
       "113365       False -2.878930  00013ce794661a9693bbb187f3e00a76\n",
       "10813        False -0.762829  0001ab3b881ddc7f381df59daf55182c\n",
       "87164        False -2.335689  00024ea9d61d1c0337d275b553f2a82f\n",
       "2736         False -0.008255  00027775012fc72cba66cab016b7834c\n",
       "...            ...       ...                               ...\n",
       "140970       False -3.613638  009a4fb7229618f7d1c98945c47da717\n",
       "27182        False -1.219015  009a52e76bcc356b3cb69210baf85133\n",
       "44417        False -1.541838  009a8b358486c660414f3516998d2e01\n",
       "15895        False -0.940124  009a91adc398caee6503e5e2a59e01f9\n",
       "100681       False -2.606590  009a96410ad9509c81afab778b264ac8\n",
       "\n",
       "[400 rows x 3 columns]"
      ]
     },
     "execution_count": 57,
     "metadata": {},
     "output_type": "execute_result"
    }
   ],
   "source": [
    "UREsample400 = WSR_conf_seq_module.UREgenerate_sample(PRN_permutation, 400, Z)\n",
    "UREsample400"
   ]
  },
  {
   "cell_type": "code",
   "execution_count": 58,
   "id": "7887a12f-f641-47d7-a9b0-2c1e51f9b940",
   "metadata": {},
   "outputs": [
    {
     "data": {
      "text/html": [
       "<div>\n",
       "<style scoped>\n",
       "    .dataframe tbody tr th:only-of-type {\n",
       "        vertical-align: middle;\n",
       "    }\n",
       "\n",
       "    .dataframe tbody tr th {\n",
       "        vertical-align: top;\n",
       "    }\n",
       "\n",
       "    .dataframe thead th {\n",
       "        text-align: right;\n",
       "    }\n",
       "</style>\n",
       "<table border=\"1\" class=\"dataframe\">\n",
       "  <thead>\n",
       "    <tr style=\"text-align: right;\">\n",
       "      <th></th>\n",
       "      <th>regions_MEX</th>\n",
       "      <th>Scores</th>\n",
       "      <th>PRNs</th>\n",
       "    </tr>\n",
       "  </thead>\n",
       "  <tbody>\n",
       "    <tr>\n",
       "      <th>60467</th>\n",
       "      <td>False</td>\n",
       "      <td>-1.828431</td>\n",
       "      <td>000041cd0abd9e197be4074a55b941b9</td>\n",
       "    </tr>\n",
       "    <tr>\n",
       "      <th>113365</th>\n",
       "      <td>False</td>\n",
       "      <td>-2.878930</td>\n",
       "      <td>00013ce794661a9693bbb187f3e00a76</td>\n",
       "    </tr>\n",
       "    <tr>\n",
       "      <th>10813</th>\n",
       "      <td>False</td>\n",
       "      <td>-0.762829</td>\n",
       "      <td>0001ab3b881ddc7f381df59daf55182c</td>\n",
       "    </tr>\n",
       "    <tr>\n",
       "      <th>87164</th>\n",
       "      <td>False</td>\n",
       "      <td>-2.335689</td>\n",
       "      <td>00024ea9d61d1c0337d275b553f2a82f</td>\n",
       "    </tr>\n",
       "    <tr>\n",
       "      <th>2736</th>\n",
       "      <td>False</td>\n",
       "      <td>-0.008255</td>\n",
       "      <td>00027775012fc72cba66cab016b7834c</td>\n",
       "    </tr>\n",
       "    <tr>\n",
       "      <th>...</th>\n",
       "      <td>...</td>\n",
       "      <td>...</td>\n",
       "      <td>...</td>\n",
       "    </tr>\n",
       "    <tr>\n",
       "      <th>86654</th>\n",
       "      <td>False</td>\n",
       "      <td>-2.326002</td>\n",
       "      <td>027999f589a5fedcc79596d0bf9017a9</td>\n",
       "    </tr>\n",
       "    <tr>\n",
       "      <th>21422</th>\n",
       "      <td>False</td>\n",
       "      <td>-1.089395</td>\n",
       "      <td>0279da937ef9cd7d9a9b9f703ae3dd45</td>\n",
       "    </tr>\n",
       "    <tr>\n",
       "      <th>138359</th>\n",
       "      <td>False</td>\n",
       "      <td>-3.528538</td>\n",
       "      <td>0279e365c1d9db7d689363b1ea701db5</td>\n",
       "    </tr>\n",
       "    <tr>\n",
       "      <th>141736</th>\n",
       "      <td>False</td>\n",
       "      <td>-3.638677</td>\n",
       "      <td>027a13b08b9cc5658ea2bcaf8d811f4e</td>\n",
       "    </tr>\n",
       "    <tr>\n",
       "      <th>22173</th>\n",
       "      <td>False</td>\n",
       "      <td>-1.106977</td>\n",
       "      <td>027ab9cb83a6b16c26b9b587e3c25428</td>\n",
       "    </tr>\n",
       "  </tbody>\n",
       "</table>\n",
       "<p>1600 rows × 3 columns</p>\n",
       "</div>"
      ],
      "text/plain": [
       "       regions_MEX    Scores                              PRNs\n",
       "60467        False -1.828431  000041cd0abd9e197be4074a55b941b9\n",
       "113365       False -2.878930  00013ce794661a9693bbb187f3e00a76\n",
       "10813        False -0.762829  0001ab3b881ddc7f381df59daf55182c\n",
       "87164        False -2.335689  00024ea9d61d1c0337d275b553f2a82f\n",
       "2736         False -0.008255  00027775012fc72cba66cab016b7834c\n",
       "...            ...       ...                               ...\n",
       "86654        False -2.326002  027999f589a5fedcc79596d0bf9017a9\n",
       "21422        False -1.089395  0279da937ef9cd7d9a9b9f703ae3dd45\n",
       "138359       False -3.528538  0279e365c1d9db7d689363b1ea701db5\n",
       "141736       False -3.638677  027a13b08b9cc5658ea2bcaf8d811f4e\n",
       "22173        False -1.106977  027ab9cb83a6b16c26b9b587e3c25428\n",
       "\n",
       "[1600 rows x 3 columns]"
      ]
     },
     "execution_count": 58,
     "metadata": {},
     "output_type": "execute_result"
    }
   ],
   "source": [
    "UREsample1600 = WSR_conf_seq_module.UREgenerate_sample(PRN_permutation, 1600, Z)\n",
    "UREsample1600"
   ]
  },
  {
   "cell_type": "code",
   "execution_count": 59,
   "id": "11fb0f09-0451-4bc8-b111-c7ea82854769",
   "metadata": {},
   "outputs": [
    {
     "data": {
      "text/html": [
       "<div>\n",
       "<style scoped>\n",
       "    .dataframe tbody tr th:only-of-type {\n",
       "        vertical-align: middle;\n",
       "    }\n",
       "\n",
       "    .dataframe tbody tr th {\n",
       "        vertical-align: top;\n",
       "    }\n",
       "\n",
       "    .dataframe thead th {\n",
       "        text-align: right;\n",
       "    }\n",
       "</style>\n",
       "<table border=\"1\" class=\"dataframe\">\n",
       "  <thead>\n",
       "    <tr style=\"text-align: right;\">\n",
       "      <th></th>\n",
       "      <th>regions_MEX</th>\n",
       "      <th>Scores</th>\n",
       "      <th>PRNs</th>\n",
       "    </tr>\n",
       "  </thead>\n",
       "  <tbody>\n",
       "    <tr>\n",
       "      <th>60467</th>\n",
       "      <td>False</td>\n",
       "      <td>-1.828431</td>\n",
       "      <td>000041cd0abd9e197be4074a55b941b9</td>\n",
       "    </tr>\n",
       "    <tr>\n",
       "      <th>113365</th>\n",
       "      <td>False</td>\n",
       "      <td>-2.878930</td>\n",
       "      <td>00013ce794661a9693bbb187f3e00a76</td>\n",
       "    </tr>\n",
       "    <tr>\n",
       "      <th>10813</th>\n",
       "      <td>False</td>\n",
       "      <td>-0.762829</td>\n",
       "      <td>0001ab3b881ddc7f381df59daf55182c</td>\n",
       "    </tr>\n",
       "    <tr>\n",
       "      <th>87164</th>\n",
       "      <td>False</td>\n",
       "      <td>-2.335689</td>\n",
       "      <td>00024ea9d61d1c0337d275b553f2a82f</td>\n",
       "    </tr>\n",
       "    <tr>\n",
       "      <th>2736</th>\n",
       "      <td>False</td>\n",
       "      <td>-0.008255</td>\n",
       "      <td>00027775012fc72cba66cab016b7834c</td>\n",
       "    </tr>\n",
       "    <tr>\n",
       "      <th>...</th>\n",
       "      <td>...</td>\n",
       "      <td>...</td>\n",
       "      <td>...</td>\n",
       "    </tr>\n",
       "    <tr>\n",
       "      <th>96931</th>\n",
       "      <td>False</td>\n",
       "      <td>-2.529189</td>\n",
       "      <td>0a40dbc2c0ba365d1322a52f9566c9e4</td>\n",
       "    </tr>\n",
       "    <tr>\n",
       "      <th>8840</th>\n",
       "      <td>False</td>\n",
       "      <td>-0.676514</td>\n",
       "      <td>0a41170b8920a4bd19f4b12ebf6690a9</td>\n",
       "    </tr>\n",
       "    <tr>\n",
       "      <th>73175</th>\n",
       "      <td>False</td>\n",
       "      <td>-2.064951</td>\n",
       "      <td>0a421bce2bd91d8d6824e5c31c60ec00</td>\n",
       "    </tr>\n",
       "    <tr>\n",
       "      <th>18268</th>\n",
       "      <td>False</td>\n",
       "      <td>-1.007702</td>\n",
       "      <td>0a42c6eec322e8fe39d630ccff0abf92</td>\n",
       "    </tr>\n",
       "    <tr>\n",
       "      <th>63743</th>\n",
       "      <td>False</td>\n",
       "      <td>-1.888327</td>\n",
       "      <td>0a42e9d017c01dbdc35dd689277d1130</td>\n",
       "    </tr>\n",
       "  </tbody>\n",
       "</table>\n",
       "<p>6400 rows × 3 columns</p>\n",
       "</div>"
      ],
      "text/plain": [
       "       regions_MEX    Scores                              PRNs\n",
       "60467        False -1.828431  000041cd0abd9e197be4074a55b941b9\n",
       "113365       False -2.878930  00013ce794661a9693bbb187f3e00a76\n",
       "10813        False -0.762829  0001ab3b881ddc7f381df59daf55182c\n",
       "87164        False -2.335689  00024ea9d61d1c0337d275b553f2a82f\n",
       "2736         False -0.008255  00027775012fc72cba66cab016b7834c\n",
       "...            ...       ...                               ...\n",
       "96931        False -2.529189  0a40dbc2c0ba365d1322a52f9566c9e4\n",
       "8840         False -0.676514  0a41170b8920a4bd19f4b12ebf6690a9\n",
       "73175        False -2.064951  0a421bce2bd91d8d6824e5c31c60ec00\n",
       "18268        False -1.007702  0a42c6eec322e8fe39d630ccff0abf92\n",
       "63743        False -1.888327  0a42e9d017c01dbdc35dd689277d1130\n",
       "\n",
       "[6400 rows x 3 columns]"
      ]
     },
     "execution_count": 59,
     "metadata": {},
     "output_type": "execute_result"
    }
   ],
   "source": [
    "UREsample6400 = WSR_conf_seq_module.UREgenerate_sample(PRN_permutation, 6400, Z)\n",
    "UREsample6400"
   ]
  },
  {
   "cell_type": "code",
   "execution_count": 60,
   "id": "c2cd7472-2023-4fcc-89a0-2856f22c1717",
   "metadata": {},
   "outputs": [
    {
     "data": {
      "text/html": [
       "<div>\n",
       "<style scoped>\n",
       "    .dataframe tbody tr th:only-of-type {\n",
       "        vertical-align: middle;\n",
       "    }\n",
       "\n",
       "    .dataframe tbody tr th {\n",
       "        vertical-align: top;\n",
       "    }\n",
       "\n",
       "    .dataframe thead th {\n",
       "        text-align: right;\n",
       "    }\n",
       "</style>\n",
       "<table border=\"1\" class=\"dataframe\">\n",
       "  <thead>\n",
       "    <tr style=\"text-align: right;\">\n",
       "      <th></th>\n",
       "      <th>regions_MEX</th>\n",
       "      <th>Scores</th>\n",
       "      <th>PRNs</th>\n",
       "    </tr>\n",
       "  </thead>\n",
       "  <tbody>\n",
       "    <tr>\n",
       "      <th>60467</th>\n",
       "      <td>False</td>\n",
       "      <td>-1.828431</td>\n",
       "      <td>000041cd0abd9e197be4074a55b941b9</td>\n",
       "    </tr>\n",
       "    <tr>\n",
       "      <th>113365</th>\n",
       "      <td>False</td>\n",
       "      <td>-2.878930</td>\n",
       "      <td>00013ce794661a9693bbb187f3e00a76</td>\n",
       "    </tr>\n",
       "    <tr>\n",
       "      <th>10813</th>\n",
       "      <td>False</td>\n",
       "      <td>-0.762829</td>\n",
       "      <td>0001ab3b881ddc7f381df59daf55182c</td>\n",
       "    </tr>\n",
       "    <tr>\n",
       "      <th>87164</th>\n",
       "      <td>False</td>\n",
       "      <td>-2.335689</td>\n",
       "      <td>00024ea9d61d1c0337d275b553f2a82f</td>\n",
       "    </tr>\n",
       "    <tr>\n",
       "      <th>2736</th>\n",
       "      <td>False</td>\n",
       "      <td>-0.008255</td>\n",
       "      <td>00027775012fc72cba66cab016b7834c</td>\n",
       "    </tr>\n",
       "    <tr>\n",
       "      <th>...</th>\n",
       "      <td>...</td>\n",
       "      <td>...</td>\n",
       "      <td>...</td>\n",
       "    </tr>\n",
       "    <tr>\n",
       "      <th>99051</th>\n",
       "      <td>False</td>\n",
       "      <td>-2.573027</td>\n",
       "      <td>2953c72b81258cd80a99c940c4073b3f</td>\n",
       "    </tr>\n",
       "    <tr>\n",
       "      <th>8472</th>\n",
       "      <td>False</td>\n",
       "      <td>-0.658051</td>\n",
       "      <td>2953e1d5e744b98eb400146e25e64521</td>\n",
       "    </tr>\n",
       "    <tr>\n",
       "      <th>156219</th>\n",
       "      <td>False</td>\n",
       "      <td>-4.414428</td>\n",
       "      <td>295440b7894722527b7469a3c35740ea</td>\n",
       "    </tr>\n",
       "    <tr>\n",
       "      <th>52412</th>\n",
       "      <td>False</td>\n",
       "      <td>-1.685407</td>\n",
       "      <td>29545eaacae6fb53a3c0d5d4dd41245b</td>\n",
       "    </tr>\n",
       "    <tr>\n",
       "      <th>49955</th>\n",
       "      <td>False</td>\n",
       "      <td>-1.641159</td>\n",
       "      <td>29550e2ce36ca186163bc24ed5c52b66</td>\n",
       "    </tr>\n",
       "  </tbody>\n",
       "</table>\n",
       "<p>25600 rows × 3 columns</p>\n",
       "</div>"
      ],
      "text/plain": [
       "       regions_MEX    Scores                              PRNs\n",
       "60467        False -1.828431  000041cd0abd9e197be4074a55b941b9\n",
       "113365       False -2.878930  00013ce794661a9693bbb187f3e00a76\n",
       "10813        False -0.762829  0001ab3b881ddc7f381df59daf55182c\n",
       "87164        False -2.335689  00024ea9d61d1c0337d275b553f2a82f\n",
       "2736         False -0.008255  00027775012fc72cba66cab016b7834c\n",
       "...            ...       ...                               ...\n",
       "99051        False -2.573027  2953c72b81258cd80a99c940c4073b3f\n",
       "8472         False -0.658051  2953e1d5e744b98eb400146e25e64521\n",
       "156219       False -4.414428  295440b7894722527b7469a3c35740ea\n",
       "52412        False -1.685407  29545eaacae6fb53a3c0d5d4dd41245b\n",
       "49955        False -1.641159  29550e2ce36ca186163bc24ed5c52b66\n",
       "\n",
       "[25600 rows x 3 columns]"
      ]
     },
     "execution_count": 60,
     "metadata": {},
     "output_type": "execute_result"
    }
   ],
   "source": [
    "UREsample25600 = WSR_conf_seq_module.UREgenerate_sample(PRN_permutation, 25600, Z)\n",
    "UREsample25600"
   ]
  },
  {
   "cell_type": "code",
   "execution_count": 63,
   "id": "778a82ed-0c89-4039-9df3-ce8e53fe2d1c",
   "metadata": {
    "tags": []
   },
   "outputs": [],
   "source": [
    "#generate a list of the 5 samples of sizes 100, 400, 1600, 6400, 25600\n",
    "UREsample_list = [UREsample100, UREsample400, UREsample1600, UREsample6400, UREsample25600]"
   ]
  },
  {
   "cell_type": "markdown",
   "id": "8a13ab5e-6f10-4f3c-a68d-549d98736be4",
   "metadata": {},
   "source": [
    "**Generate M and G values for each sample**"
   ]
  },
  {
   "cell_type": "code",
   "execution_count": 64,
   "id": "3dd89390-a3d9-47f1-a368-1966fafcc8d8",
   "metadata": {},
   "outputs": [
    {
     "name": "stdout",
     "output_type": "stream",
     "text": [
      "99\n"
     ]
    },
    {
     "data": {
      "text/plain": [
       "{'M': 100, 'M_plus': 0, 'M_minus': 100, 'G': 100, 'G_minus': 100, 'G_plus': 0}"
      ]
     },
     "execution_count": 64,
     "metadata": {},
     "output_type": "execute_result"
    }
   ],
   "source": [
    "URESamp100mets = WSR_conf_seq_module.UREcompute_M(UREsample_list[0], Topic, Z)\n",
    "URESamp100mets"
   ]
  },
  {
   "cell_type": "code",
   "execution_count": 65,
   "id": "a9322c95-10af-4c8d-b4ae-4945e21c8069",
   "metadata": {},
   "outputs": [
    {
     "name": "stdout",
     "output_type": "stream",
     "text": [
      "399\n"
     ]
    },
    {
     "data": {
      "text/plain": [
       "{'M': 400, 'M_plus': 0, 'M_minus': 400, 'G': 400, 'G_minus': 400, 'G_plus': 0}"
      ]
     },
     "execution_count": 65,
     "metadata": {},
     "output_type": "execute_result"
    }
   ],
   "source": [
    "URESamp400mets = WSR_conf_seq_module.UREcompute_M(UREsample_list[1], Topic, Z)\n",
    "URESamp400mets"
   ]
  },
  {
   "cell_type": "code",
   "execution_count": 66,
   "id": "e01ce24a-03e3-452c-8709-5789c49f8d5f",
   "metadata": {},
   "outputs": [
    {
     "name": "stdout",
     "output_type": "stream",
     "text": [
      "1599\n"
     ]
    },
    {
     "data": {
      "text/plain": [
       "{'M': 1600,\n",
       " 'M_plus': 2,\n",
       " 'M_minus': 1598,\n",
       " 'G': 1600,\n",
       " 'G_minus': 1598,\n",
       " 'G_plus': 2}"
      ]
     },
     "execution_count": 66,
     "metadata": {},
     "output_type": "execute_result"
    }
   ],
   "source": [
    "URESamp1600mets = WSR_conf_seq_module.UREcompute_M(UREsample_list[2], Topic, Z)\n",
    "URESamp1600mets"
   ]
  },
  {
   "cell_type": "code",
   "execution_count": 67,
   "id": "a5932ffd-71cb-4fec-bb1e-6e9ecfb81081",
   "metadata": {},
   "outputs": [
    {
     "name": "stdout",
     "output_type": "stream",
     "text": [
      "6399\n"
     ]
    },
    {
     "data": {
      "text/plain": [
       "{'M': 6400,\n",
       " 'M_plus': 13,\n",
       " 'M_minus': 6387,\n",
       " 'G': 6400,\n",
       " 'G_minus': 6387,\n",
       " 'G_plus': 13}"
      ]
     },
     "execution_count": 67,
     "metadata": {},
     "output_type": "execute_result"
    }
   ],
   "source": [
    "URESamp6400mets = WSR_conf_seq_module.UREcompute_M(UREsample_list[3], Topic, Z)\n",
    "URESamp6400mets"
   ]
  },
  {
   "cell_type": "code",
   "execution_count": 68,
   "id": "6e8315be-c9aa-49fc-b781-8da60685a0ec",
   "metadata": {},
   "outputs": [
    {
     "name": "stdout",
     "output_type": "stream",
     "text": [
      "25599\n"
     ]
    },
    {
     "data": {
      "text/plain": [
       "{'M': 25600,\n",
       " 'M_plus': 66,\n",
       " 'M_minus': 25534,\n",
       " 'G': 25600,\n",
       " 'G_minus': 25534,\n",
       " 'G_plus': 66}"
      ]
     },
     "execution_count": 68,
     "metadata": {},
     "output_type": "execute_result"
    }
   ],
   "source": [
    "URESamp25600mets = WSR_conf_seq_module.UREcompute_M(UREsample_list[4], Topic, Z)\n",
    "URESamp25600mets"
   ]
  },
  {
   "cell_type": "markdown",
   "id": "96d54c54-471c-4305-84a4-78b72c870d58",
   "metadata": {},
   "source": [
    "**Compute the UOSCI for One-Shot URE using Hypergeometric Distribution**"
   ]
  },
  {
   "cell_type": "markdown",
   "id": "ddce7fc6-f2ab-4715-9237-4562bc54260b",
   "metadata": {
    "tags": []
   },
   "source": [
    "**Compute one-sided confidence interval on Z0+**"
   ]
  },
  {
   "cell_type": "code",
   "execution_count": 69,
   "id": "f6ff7238-6c26-46fd-8783-16730620ad1f",
   "metadata": {},
   "outputs": [
    {
     "name": "stdout",
     "output_type": "stream",
     "text": [
      "{'M': 100, 'M_plus': 0, 'M_minus': 100, 'G': 100, 'G_minus': 100, 'G_plus': 0, 'rho_zero_hat_low': 0.0, 'rho_zero_hat_high': 0.02951304960715664, 'URE_UOSCI_confint-lower': 0, 'URE_UOSCI_confint-upper': 4694}\n"
     ]
    }
   ],
   "source": [
    "WSR_conf_seq_module.compute_URE_UOSCI(URESamp100mets, Z_0, Z_plus)"
   ]
  },
  {
   "cell_type": "code",
   "execution_count": 70,
   "id": "8650d5a5-7f4b-4518-acf6-15068f1d125f",
   "metadata": {},
   "outputs": [
    {
     "name": "stdout",
     "output_type": "stream",
     "text": [
      "{'M': 400, 'M_plus': 0, 'M_minus': 400, 'G': 400, 'G_minus': 400, 'G_plus': 0, 'rho_zero_hat_low': 0.0, 'rho_zero_hat_high': 0.007461355528792134, 'URE_UOSCI_confint-lower': 0, 'URE_UOSCI_confint-upper': 1187}\n"
     ]
    }
   ],
   "source": [
    "WSR_conf_seq_module.compute_URE_UOSCI(URESamp400mets, Z_0, Z_plus)"
   ]
  },
  {
   "cell_type": "code",
   "execution_count": 71,
   "id": "5acc3d97-24bc-4e22-ad2e-877e6a911d16",
   "metadata": {},
   "outputs": [
    {
     "name": "stdout",
     "output_type": "stream",
     "text": [
      "{'M': 1600, 'M_plus': 2, 'M_minus': 1598, 'G': 1600, 'G_minus': 1598, 'G_plus': 2, 'rho_zero_hat_low': 0.0, 'rho_zero_hat_high': 0.003929592034236097, 'URE_UOSCI_confint-lower': 2, 'URE_UOSCI_confint-upper': 625}\n"
     ]
    }
   ],
   "source": [
    "WSR_conf_seq_module.compute_URE_UOSCI(URESamp1600mets, Z_0, Z_plus)"
   ]
  },
  {
   "cell_type": "code",
   "execution_count": 72,
   "id": "1193d7ce-98a9-45c1-9e4a-616667dd177d",
   "metadata": {},
   "outputs": [
    {
     "name": "stdout",
     "output_type": "stream",
     "text": [
      "{'M': 6400, 'M_plus': 13, 'M_minus': 6387, 'G': 6400, 'G_minus': 6387, 'G_plus': 13, 'rho_zero_hat_low': 0.0, 'rho_zero_hat_high': 0.0032275289991330496, 'URE_UOSCI_confint-lower': 13, 'URE_UOSCI_confint-upper': 514}\n"
     ]
    }
   ],
   "source": [
    "WSR_conf_seq_module.compute_URE_UOSCI(URESamp6400mets, Z_0, Z_plus)"
   ]
  },
  {
   "cell_type": "code",
   "execution_count": 73,
   "id": "a26989dd-0990-4c1d-b3b4-dc5de4cb5842",
   "metadata": {},
   "outputs": [
    {
     "name": "stdout",
     "output_type": "stream",
     "text": [
      "{'M': 25600, 'M_plus': 66, 'M_minus': 25534, 'G': 25600, 'G_minus': 25534, 'G_plus': 66, 'rho_zero_hat_low': 0.0, 'rho_zero_hat_high': 0.003163439798743084, 'URE_UOSCI_confint-lower': 66, 'URE_UOSCI_confint-upper': 504}\n"
     ]
    }
   ],
   "source": [
    "WSR_conf_seq_module.compute_URE_UOSCI(URESamp25600mets, Z_0, Z_plus)"
   ]
  },
  {
   "cell_type": "markdown",
   "id": "713e436e-4f51-4bab-8d3e-1a6d636bc97d",
   "metadata": {},
   "source": [
    "**Compute two-sided confidence interval on Z0+**"
   ]
  },
  {
   "cell_type": "code",
   "execution_count": 74,
   "id": "e1ca9878-856c-4a8a-ac09-d8cc17741424",
   "metadata": {},
   "outputs": [
    {
     "name": "stdout",
     "output_type": "stream",
     "text": [
      "{'M': 100, 'M_plus': 0, 'M_minus': 100, 'G': 100, 'G_minus': 100, 'G_plus': 0, 'rho_zero_hat_low': 0.0, 'rho_zero_hat_high': 0.03621669264519054, 'URE_UOSCI_confint-lower': 0, 'URE_UOSCI_confint-upper': 4694, 'URE_TSCI_confint-lower': 0, 'URE_TSCI_confint-upper': 5760}\n"
     ]
    }
   ],
   "source": [
    "WSR_conf_seq_module.compute_URE_TSCI(URESamp100mets, Z_0, Z_plus)"
   ]
  },
  {
   "cell_type": "code",
   "execution_count": 75,
   "id": "a6d9b901-b924-456d-ad9e-beddd3610c80",
   "metadata": {},
   "outputs": [
    {
     "name": "stdout",
     "output_type": "stream",
     "text": [
      "{'M': 400, 'M_plus': 0, 'M_minus': 400, 'G': 400, 'G_minus': 400, 'G_plus': 0, 'rho_zero_hat_low': 0.0, 'rho_zero_hat_high': 0.009179804583673406, 'URE_UOSCI_confint-lower': 0, 'URE_UOSCI_confint-upper': 1187, 'URE_TSCI_confint-lower': 0, 'URE_TSCI_confint-upper': 1460}\n"
     ]
    }
   ],
   "source": [
    "WSR_conf_seq_module.compute_URE_TSCI(URESamp400mets, Z_0, Z_plus)"
   ]
  },
  {
   "cell_type": "code",
   "execution_count": 76,
   "id": "38b57326-806e-4f2f-a93b-947db945fbd7",
   "metadata": {},
   "outputs": [
    {
     "name": "stdout",
     "output_type": "stream",
     "text": [
      "{'M': 1600, 'M_plus': 2, 'M_minus': 1598, 'G': 1600, 'G_minus': 1598, 'G_plus': 2, 'rho_zero_hat_low': 0.0001514166637131132, 'rho_zero_hat_high': 0.004508063393883649, 'URE_UOSCI_confint-lower': 2, 'URE_UOSCI_confint-upper': 625, 'URE_TSCI_confint-lower': 24, 'URE_TSCI_confint-upper': 717}\n"
     ]
    }
   ],
   "source": [
    "WSR_conf_seq_module.compute_URE_TSCI(URESamp1600mets, Z_0, Z_plus)"
   ]
  },
  {
   "cell_type": "code",
   "execution_count": 77,
   "id": "2335b2d2-ca86-4254-b7db-4ac85ac396e1",
   "metadata": {},
   "outputs": [
    {
     "name": "stdout",
     "output_type": "stream",
     "text": [
      "{'M': 6400, 'M_plus': 13, 'M_minus': 6387, 'G': 6400, 'G_minus': 6387, 'G_plus': 13, 'rho_zero_hat_low': 0.0010819844952932077, 'rho_zero_hat_high': 0.0034709945601185906, 'URE_UOSCI_confint-lower': 13, 'URE_UOSCI_confint-upper': 514, 'URE_TSCI_confint-lower': 172, 'URE_TSCI_confint-upper': 552}\n"
     ]
    }
   ],
   "source": [
    "WSR_conf_seq_module.compute_URE_TSCI(URESamp6400mets, Z_0, Z_plus)"
   ]
  },
  {
   "cell_type": "code",
   "execution_count": 78,
   "id": "1c64ba07-68ac-4f0d-b1db-8b1534b6c47f",
   "metadata": {},
   "outputs": [
    {
     "name": "stdout",
     "output_type": "stream",
     "text": [
      "{'M': 25600, 'M_plus': 66, 'M_minus': 25534, 'G': 25600, 'G_minus': 25534, 'G_plus': 66, 'rho_zero_hat_low': 0.0019944656332273364, 'rho_zero_hat_high': 0.003278855591936417, 'URE_UOSCI_confint-lower': 66, 'URE_UOSCI_confint-upper': 504, 'URE_TSCI_confint-lower': 317, 'URE_TSCI_confint-upper': 522}\n"
     ]
    }
   ],
   "source": [
    "WSR_conf_seq_module.compute_URE_TSCI(URESamp25600mets, Z_0, Z_plus)"
   ]
  },
  {
   "cell_type": "markdown",
   "id": "cafa5808-bd8b-41d6-b961-747fe8f47d98",
   "metadata": {},
   "source": [
    "**Compute one-sided confidence interval on recall**"
   ]
  },
  {
   "cell_type": "code",
   "execution_count": 79,
   "id": "84cda88e-d3b4-4d28-aa33-e9695836e37e",
   "metadata": {},
   "outputs": [
    {
     "name": "stdout",
     "output_type": "stream",
     "text": [
      "{'M': 100, 'M_plus': 0, 'M_minus': 100, 'G': 100, 'G_minus': 100, 'G_plus': 0, 'rho_zero_hat_low': 0.0, 'rho_zero_hat_high': 0.03621669264519054, 'URE_UOSCI_confint-lower': 0, 'URE_UOSCI_confint-upper': 4694, 'URE_TSCI_confint-lower': 0, 'URE_TSCI_confint-upper': 5760, 'URE_UOSCI_RECALL-lower': 0.2634552016318845, 'URE_UOSCI_RECALL-upper': 1.0}\n"
     ]
    }
   ],
   "source": [
    "WSR_conf_seq_module.compute_URE_UOSCI_recall(URESamp100mets, Z_plus)"
   ]
  },
  {
   "cell_type": "code",
   "execution_count": 80,
   "id": "0472cffb-e228-4e12-a296-854a55ac9301",
   "metadata": {},
   "outputs": [
    {
     "name": "stdout",
     "output_type": "stream",
     "text": [
      "{'M': 400, 'M_plus': 0, 'M_minus': 400, 'G': 400, 'G_minus': 400, 'G_plus': 0, 'rho_zero_hat_low': 0.0, 'rho_zero_hat_high': 0.009179804583673406, 'URE_UOSCI_confint-lower': 0, 'URE_UOSCI_confint-upper': 1187, 'URE_TSCI_confint-lower': 0, 'URE_TSCI_confint-upper': 1460, 'URE_UOSCI_RECALL-lower': 0.5858339148639219, 'URE_UOSCI_RECALL-upper': 1.0}\n"
     ]
    }
   ],
   "source": [
    "WSR_conf_seq_module.compute_URE_UOSCI_recall(URESamp400mets, Z_plus)"
   ]
  },
  {
   "cell_type": "code",
   "execution_count": 81,
   "id": "ca5887b9-7360-4d8a-a543-771cdadc3e03",
   "metadata": {},
   "outputs": [
    {
     "name": "stdout",
     "output_type": "stream",
     "text": [
      "{'M': 1600, 'M_plus': 2, 'M_minus': 1598, 'G': 1600, 'G_minus': 1598, 'G_plus': 2, 'rho_zero_hat_low': 0.0001514166637131132, 'rho_zero_hat_high': 0.004508063393883649, 'URE_UOSCI_confint-lower': 2, 'URE_UOSCI_confint-upper': 625, 'URE_TSCI_confint-lower': 24, 'URE_TSCI_confint-upper': 717, 'URE_UOSCI_RECALL-lower': 0.7296006944444444, 'URE_UOSCI_RECALL-upper': 1.0}\n"
     ]
    }
   ],
   "source": [
    "WSR_conf_seq_module.compute_URE_UOSCI_recall(URESamp1600mets, Z_plus)"
   ]
  },
  {
   "cell_type": "code",
   "execution_count": 82,
   "id": "61754f63-e3f3-48a3-b5cc-6103f3297406",
   "metadata": {},
   "outputs": [
    {
     "name": "stdout",
     "output_type": "stream",
     "text": [
      "{'M': 6400, 'M_plus': 13, 'M_minus': 6387, 'G': 6400, 'G_minus': 6387, 'G_plus': 13, 'rho_zero_hat_low': 0.0010819844952932077, 'rho_zero_hat_high': 0.0034709945601185906, 'URE_UOSCI_confint-lower': 13, 'URE_UOSCI_confint-upper': 514, 'URE_TSCI_confint-lower': 172, 'URE_TSCI_confint-upper': 552, 'URE_UOSCI_RECALL-lower': 0.771545827633379, 'URE_UOSCI_RECALL-upper': 1.0}\n"
     ]
    }
   ],
   "source": [
    "WSR_conf_seq_module.compute_URE_UOSCI_recall(URESamp6400mets, Z_plus)"
   ]
  },
  {
   "cell_type": "code",
   "execution_count": 83,
   "id": "2aa0766b-fdca-4ad5-9bd1-9ad287d40096",
   "metadata": {},
   "outputs": [
    {
     "name": "stdout",
     "output_type": "stream",
     "text": [
      "{'M': 25600, 'M_plus': 66, 'M_minus': 25534, 'G': 25600, 'G_minus': 25534, 'G_plus': 66, 'rho_zero_hat_low': 0.0019944656332273364, 'rho_zero_hat_high': 0.003278855591936417, 'URE_UOSCI_confint-lower': 66, 'URE_UOSCI_confint-upper': 504, 'URE_TSCI_confint-lower': 317, 'URE_TSCI_confint-upper': 522, 'URE_UOSCI_RECALL-lower': 0.7993586807146129, 'URE_UOSCI_RECALL-upper': 1.0}\n"
     ]
    }
   ],
   "source": [
    "WSR_conf_seq_module.compute_URE_UOSCI_recall(URESamp25600mets, Z_plus)"
   ]
  },
  {
   "cell_type": "markdown",
   "id": "9b589c2a-e7b7-4b43-84ce-dd0e95248d7c",
   "metadata": {},
   "source": [
    "**Compute one-sided confidence interval on recall**"
   ]
  },
  {
   "cell_type": "code",
   "execution_count": 84,
   "id": "a0b5880b-99b7-4593-9978-e54938f34a46",
   "metadata": {},
   "outputs": [
    {
     "name": "stdout",
     "output_type": "stream",
     "text": [
      "{'M': 100, 'M_plus': 0, 'M_minus': 100, 'G': 100, 'G_minus': 100, 'G_plus': 0, 'rho_zero_hat_low': 0.0, 'rho_zero_hat_high': 0.03621669264519054, 'URE_UOSCI_confint-lower': 0, 'URE_UOSCI_confint-upper': 4694, 'URE_TSCI_confint-lower': 0, 'URE_TSCI_confint-upper': 5760, 'URE_UOSCI_RECALL-lower': 0.2634552016318845, 'URE_UOSCI_RECALL-upper': 1.0, 'URE_TSCI_RECALL-lower': 0.22570237935206344, 'URE_TSCI_RECALL-upper': 1.0}\n"
     ]
    }
   ],
   "source": [
    "WSR_conf_seq_module.compute_URE_TSCI_recall(URESamp100mets, Z_plus)"
   ]
  },
  {
   "cell_type": "code",
   "execution_count": 85,
   "id": "db2f31b5-6887-4589-aec6-61f27fc39366",
   "metadata": {},
   "outputs": [
    {
     "name": "stdout",
     "output_type": "stream",
     "text": [
      "{'M': 400, 'M_plus': 0, 'M_minus': 400, 'G': 400, 'G_minus': 400, 'G_plus': 0, 'rho_zero_hat_low': 0.0, 'rho_zero_hat_high': 0.009179804583673406, 'URE_UOSCI_confint-lower': 0, 'URE_UOSCI_confint-upper': 1187, 'URE_TSCI_confint-lower': 0, 'URE_TSCI_confint-upper': 1460, 'URE_UOSCI_RECALL-lower': 0.5858339148639219, 'URE_UOSCI_RECALL-upper': 1.0, 'URE_TSCI_RECALL-lower': 0.5348837209302325, 'URE_TSCI_RECALL-upper': 1.0}\n"
     ]
    }
   ],
   "source": [
    "WSR_conf_seq_module.compute_URE_TSCI_recall(URESamp400mets, Z_plus)"
   ]
  },
  {
   "cell_type": "code",
   "execution_count": 86,
   "id": "8f1bec53-f45c-4d6a-bea2-d111c4c2f0f8",
   "metadata": {},
   "outputs": [
    {
     "name": "stdout",
     "output_type": "stream",
     "text": [
      "{'M': 1600, 'M_plus': 2, 'M_minus': 1598, 'G': 1600, 'G_minus': 1598, 'G_plus': 2, 'rho_zero_hat_low': 0.0001514166637131132, 'rho_zero_hat_high': 0.004508063393883649, 'URE_UOSCI_confint-lower': 2, 'URE_UOSCI_confint-upper': 625, 'URE_TSCI_confint-lower': 24, 'URE_TSCI_confint-upper': 717, 'URE_UOSCI_RECALL-lower': 0.7296006944444444, 'URE_UOSCI_RECALL-upper': 1.0, 'URE_TSCI_RECALL-lower': 0.7015859766277128, 'URE_TSCI_RECALL-upper': 0.987081620669407}\n"
     ]
    }
   ],
   "source": [
    "WSR_conf_seq_module.compute_URE_TSCI_recall(URESamp1600mets, Z_plus)"
   ]
  },
  {
   "cell_type": "code",
   "execution_count": 87,
   "id": "9ddba8e5-b1ad-4e49-b5b8-0ee06b91d4e6",
   "metadata": {},
   "outputs": [
    {
     "name": "stdout",
     "output_type": "stream",
     "text": [
      "{'M': 6400, 'M_plus': 13, 'M_minus': 6387, 'G': 6400, 'G_minus': 6387, 'G_plus': 13, 'rho_zero_hat_low': 0.0010819844952932077, 'rho_zero_hat_high': 0.0034709945601185906, 'URE_UOSCI_confint-lower': 13, 'URE_UOSCI_confint-upper': 514, 'URE_TSCI_confint-lower': 172, 'URE_TSCI_confint-upper': 552, 'URE_UOSCI_RECALL-lower': 0.771545827633379, 'URE_UOSCI_RECALL-upper': 1.0, 'URE_TSCI_RECALL-lower': 0.7584043030031377, 'URE_TSCI_RECALL-upper': 0.9141004862236629}\n"
     ]
    }
   ],
   "source": [
    "WSR_conf_seq_module.compute_URE_TSCI_recall(URESamp6400mets, Z_plus)"
   ]
  },
  {
   "cell_type": "code",
   "execution_count": 88,
   "id": "69d7aed3-6515-445f-9b69-ac557ff254d6",
   "metadata": {},
   "outputs": [
    {
     "name": "stdout",
     "output_type": "stream",
     "text": [
      "{'M': 25600, 'M_plus': 66, 'M_minus': 25534, 'G': 25600, 'G_minus': 25534, 'G_plus': 66, 'rho_zero_hat_low': 0.0019944656332273364, 'rho_zero_hat_high': 0.003278855591936417, 'URE_UOSCI_confint-lower': 66, 'URE_UOSCI_confint-upper': 504, 'URE_TSCI_confint-lower': 317, 'URE_TSCI_confint-upper': 522, 'URE_UOSCI_RECALL-lower': 0.7993586807146129, 'URE_UOSCI_RECALL-upper': 1.0, 'URE_TSCI_RECALL-lower': 0.7928214447978191, 'URE_TSCI_RECALL-upper': 0.874248496993988}\n"
     ]
    }
   ],
   "source": [
    "WSR_conf_seq_module.compute_URE_TSCI_recall(URESamp25600mets, Z_plus)"
   ]
  },
  {
   "cell_type": "code",
   "execution_count": 89,
   "id": "1c97c621-defe-4150-8286-eaf3552340ec",
   "metadata": {},
   "outputs": [
    {
     "name": "stdout",
     "output_type": "stream",
     "text": [
      "{'M': 100,\n",
      " 'M_plus': 0,\n",
      " 'M_minus': 100,\n",
      " 'G': 100,\n",
      " 'G_minus': 100,\n",
      " 'G_plus': 0,\n",
      " 'rho_zero_hat_low': 0.0,\n",
      " 'rho_zero_hat_high': 0.03621669264519054,\n",
      " 'URE_UOSCI_confint-lower': 0,\n",
      " 'URE_UOSCI_confint-upper': 4694,\n",
      " 'URE_TSCI_confint-lower': 0,\n",
      " 'URE_TSCI_confint-upper': 5760,\n",
      " 'URE_UOSCI_RECALL-lower': 0.2634552016318845,\n",
      " 'URE_UOSCI_RECALL-upper': 1.0,\n",
      " 'URE_TSCI_RECALL-lower': 0.22570237935206344,\n",
      " 'URE_TSCI_RECALL-upper': 1.0}\n"
     ]
    }
   ],
   "source": [
    "import pprint\n",
    "pprint.pp(URESamp100mets)"
   ]
  },
  {
   "cell_type": "code",
   "execution_count": 90,
   "id": "e2663ed3-5c81-4b50-81b1-52df7bb5e07b",
   "metadata": {},
   "outputs": [
    {
     "name": "stdout",
     "output_type": "stream",
     "text": [
      "{'M': 400,\n",
      " 'M_plus': 0,\n",
      " 'M_minus': 400,\n",
      " 'G': 400,\n",
      " 'G_minus': 400,\n",
      " 'G_plus': 0,\n",
      " 'rho_zero_hat_low': 0.0,\n",
      " 'rho_zero_hat_high': 0.009179804583673406,\n",
      " 'URE_UOSCI_confint-lower': 0,\n",
      " 'URE_UOSCI_confint-upper': 1187,\n",
      " 'URE_TSCI_confint-lower': 0,\n",
      " 'URE_TSCI_confint-upper': 1460,\n",
      " 'URE_UOSCI_RECALL-lower': 0.5858339148639219,\n",
      " 'URE_UOSCI_RECALL-upper': 1.0,\n",
      " 'URE_TSCI_RECALL-lower': 0.5348837209302325,\n",
      " 'URE_TSCI_RECALL-upper': 1.0}\n"
     ]
    }
   ],
   "source": [
    "pprint.pp(URESamp400mets)"
   ]
  },
  {
   "cell_type": "code",
   "execution_count": 91,
   "id": "2d6928e5-d5ac-4aec-a942-2ebc654cdc2b",
   "metadata": {},
   "outputs": [
    {
     "name": "stdout",
     "output_type": "stream",
     "text": [
      "{'M': 1600,\n",
      " 'M_plus': 2,\n",
      " 'M_minus': 1598,\n",
      " 'G': 1600,\n",
      " 'G_minus': 1598,\n",
      " 'G_plus': 2,\n",
      " 'rho_zero_hat_low': 0.0001514166637131132,\n",
      " 'rho_zero_hat_high': 0.004508063393883649,\n",
      " 'URE_UOSCI_confint-lower': 2,\n",
      " 'URE_UOSCI_confint-upper': 625,\n",
      " 'URE_TSCI_confint-lower': 24,\n",
      " 'URE_TSCI_confint-upper': 717,\n",
      " 'URE_UOSCI_RECALL-lower': 0.7296006944444444,\n",
      " 'URE_UOSCI_RECALL-upper': 1.0,\n",
      " 'URE_TSCI_RECALL-lower': 0.7015859766277128,\n",
      " 'URE_TSCI_RECALL-upper': 0.987081620669407}\n"
     ]
    }
   ],
   "source": [
    "pprint.pp(URESamp1600mets)"
   ]
  },
  {
   "cell_type": "code",
   "execution_count": 92,
   "id": "298ad2de-7962-4096-8458-99d0e4a9b171",
   "metadata": {},
   "outputs": [
    {
     "name": "stdout",
     "output_type": "stream",
     "text": [
      "{'M': 6400,\n",
      " 'M_plus': 13,\n",
      " 'M_minus': 6387,\n",
      " 'G': 6400,\n",
      " 'G_minus': 6387,\n",
      " 'G_plus': 13,\n",
      " 'rho_zero_hat_low': 0.0010819844952932077,\n",
      " 'rho_zero_hat_high': 0.0034709945601185906,\n",
      " 'URE_UOSCI_confint-lower': 13,\n",
      " 'URE_UOSCI_confint-upper': 514,\n",
      " 'URE_TSCI_confint-lower': 172,\n",
      " 'URE_TSCI_confint-upper': 552,\n",
      " 'URE_UOSCI_RECALL-lower': 0.771545827633379,\n",
      " 'URE_UOSCI_RECALL-upper': 1.0,\n",
      " 'URE_TSCI_RECALL-lower': 0.7584043030031377,\n",
      " 'URE_TSCI_RECALL-upper': 0.9141004862236629}\n"
     ]
    }
   ],
   "source": [
    "pprint.pp(URESamp6400mets)"
   ]
  },
  {
   "cell_type": "code",
   "execution_count": 93,
   "id": "565b95b5-a761-4302-9d22-4b648b341ad2",
   "metadata": {},
   "outputs": [
    {
     "name": "stdout",
     "output_type": "stream",
     "text": [
      "{'M': 25600,\n",
      " 'M_plus': 66,\n",
      " 'M_minus': 25534,\n",
      " 'G': 25600,\n",
      " 'G_minus': 25534,\n",
      " 'G_plus': 66,\n",
      " 'rho_zero_hat_low': 0.0019944656332273364,\n",
      " 'rho_zero_hat_high': 0.003278855591936417,\n",
      " 'URE_UOSCI_confint-lower': 66,\n",
      " 'URE_UOSCI_confint-upper': 504,\n",
      " 'URE_TSCI_confint-lower': 317,\n",
      " 'URE_TSCI_confint-upper': 522,\n",
      " 'URE_UOSCI_RECALL-lower': 0.7993586807146129,\n",
      " 'URE_UOSCI_RECALL-upper': 1.0,\n",
      " 'URE_TSCI_RECALL-lower': 0.7928214447978191,\n",
      " 'URE_TSCI_RECALL-upper': 0.874248496993988}\n"
     ]
    }
   ],
   "source": [
    "pprint.pp(URESamp25600mets)"
   ]
  },
  {
   "cell_type": "markdown",
   "id": "b782ae85-c3cd-4621-968a-e8e78dee487f",
   "metadata": {},
   "source": [
    "**Build the graphs**"
   ]
  },
  {
   "cell_type": "code",
   "execution_count": 95,
   "id": "8aa82079-dd4b-4793-86fb-83886b0cd07a",
   "metadata": {},
   "outputs": [
    {
     "data": {
      "image/png": "[encoded data removed]",
      "text/plain": [
       "<Figure size 640x480 with 1 Axes>"
      ]
     },
     "metadata": {},
     "output_type": "display_data"
    }
   ],
   "source": [
    "#One-sided interval graph\n",
    "\n",
    "# importing the modules\n",
    "import matplotlib.pyplot as plt\n",
    "import numpy as np\n",
    " \n",
    "# specifying the plot size\n",
    "fig, ax = plt.subplots()\n",
    "\n",
    "ax.set_xticks((0,10,20,40,60,80))\n",
    "ax.set_xticklabels((0,100,400,1600,6400,25600))\n",
    "\n",
    "plt.xlabel(\"Additional Sample Size\")\n",
    "plt.ylabel(\"Recall\")\n",
    "\n",
    "#WSR Method UOSCI\n",
    "plt.vlines(10, Samp100mets['UOSCI_RECALL-lower'], 1, linestyles =\"solid\", colors =\"gray\", linewidth = 1)\n",
    "plt.vlines(20, Samp400mets['UOSCI_RECALL-lower'], 1, linestyles =\"solid\", colors =\"gray\", linewidth = 1)\n",
    "plt.vlines(40, Samp1600mets['UOSCI_RECALL-lower'], 1, linestyles =\"solid\", colors =\"gray\", linewidth = 1)\n",
    "plt.vlines(60, Samp6400mets['UOSCI_RECALL-lower'], 1, linestyles =\"solid\", colors =\"gray\", linewidth = 1)\n",
    "plt.vlines(80, Samp25600mets['UOSCI_RECALL-lower'], 1, linestyles =\"solid\", colors =\"gray\", linewidth = 1)\n",
    "\n",
    "\n",
    "#One-Shot URE UOSCI\n",
    "plt.vlines(10, URESamp100mets['URE_UOSCI_RECALL-lower'], 1, linestyles =\"solid\", colors =\"k\", linewidth = 3)\n",
    "plt.vlines(20, URESamp400mets['URE_UOSCI_RECALL-lower'], 1, linestyles =\"solid\", colors =\"k\", linewidth = 3)\n",
    "plt.vlines(40, URESamp1600mets['URE_UOSCI_RECALL-lower'], 1, linestyles =\"solid\", colors =\"k\", linewidth = 3)\n",
    "plt.vlines(60, URESamp6400mets['URE_UOSCI_RECALL-lower'], 1, linestyles =\"solid\", colors =\"k\", linewidth = 3)\n",
    "plt.vlines(80, URESamp25600mets['URE_UOSCI_RECALL-lower'], 1, linestyles =\"solid\", colors =\"k\", linewidth = 3)\n",
    "\n",
    "#80% recall marker\n",
    "plt.hlines(y=.80, xmin=0, xmax=100, linestyles = \"dotted\", colors = 'k')\n",
    "\n",
    "#upper conf int cap\n",
    "plt.hlines(y=1, xmin=8.5, xmax=11.5, linestyles = \"solid\", colors = 'k', linewidth = 2)\n",
    "plt.hlines(y=1, xmin=18.5, xmax=21.5, linestyles = \"solid\", colors = 'k', linewidth = 2)\n",
    "plt.hlines(y=1, xmin=38, xmax=41.5, linestyles = \"solid\", colors = 'k', linewidth = 2)\n",
    "plt.hlines(y=1, xmin=58, xmax=61.5, linestyles = \"solid\", colors = 'k', linewidth = 2)\n",
    "plt.hlines(y=1, xmin=78.5, xmax=81.5, linestyles = \"solid\", colors = 'k', linewidth = 2)\n",
    "\n",
    "#WSR lower conf int cap\n",
    "plt.hlines(y=Samp100mets['UOSCI_RECALL-lower'], xmin=8.5, xmax=11.5, linestyles = \"solid\", colors = 'gray', linewidth = 2)\n",
    "plt.hlines(y=Samp400mets['UOSCI_RECALL-lower'], xmin=18.5, xmax=21.5, linestyles = \"solid\", colors = 'gray', linewidth = 2)\n",
    "plt.hlines(y=Samp1600mets['UOSCI_RECALL-lower'], xmin=38, xmax=41.5, linestyles = \"solid\", colors = 'gray', linewidth = 2)\n",
    "plt.hlines(y=Samp6400mets['UOSCI_RECALL-lower'], xmin=58, xmax=61.5, linestyles = \"solid\", colors = 'gray', linewidth = 2)\n",
    "plt.hlines(y=Samp25600mets['UOSCI_RECALL-lower'], xmin=78.5, xmax=81.5, linestyles = \"solid\", colors = 'gray', linewidth = 2)\n",
    "\n",
    "#URE lower conf int cap\n",
    "plt.hlines(y=URESamp100mets['URE_UOSCI_RECALL-lower'], xmin=8.5, xmax=11.5, linestyles = \"solid\", colors = 'k', linewidth = 2)\n",
    "plt.hlines(y=URESamp400mets['URE_UOSCI_RECALL-lower'], xmin=18.5, xmax=21.5, linestyles = \"solid\", colors = 'k', linewidth = 2)\n",
    "plt.hlines(y=URESamp1600mets['URE_UOSCI_RECALL-lower'], xmin=38, xmax=41.5, linestyles = \"solid\", colors = 'k', linewidth = 2)\n",
    "plt.hlines(y=URESamp6400mets['URE_UOSCI_RECALL-lower'], xmin=58, xmax=61.5, linestyles = \"solid\", colors = 'k', linewidth = 2)\n",
    "plt.hlines(y=URESamp25600mets['URE_UOSCI_RECALL-lower'], xmin=78.5, xmax=81.5, linestyles = \"solid\", colors = 'k', linewidth = 2)\n",
    "\n",
    "line1 = plt.vlines(10, .9, 1, linestyles =\"solid\", colors =\"gray\", linewidth = 1)\n",
    "line2 = plt.vlines(10, .99, 1, linestyles =\"solid\", colors =\"k\", linewidth = 3)\n",
    "\n",
    "location = 0\n",
    "legend_drawn_flag = True\n",
    "plt.legend([line1, line2], ['Conf. Sequence', 'URE One Shot'], loc = 4)\n",
    "plt.title(\"Regions_MEX (0.0130, Common-Easy)\")\n",
    "plt.savefig(\"one-sided regions_MEX.png\")\n",
    "# rendering plot\n",
    "plt.show()"
   ]
  },
  {
   "cell_type": "code",
   "execution_count": 96,
   "id": "fbf36dde-acf3-4432-ac9b-5354f1e45998",
   "metadata": {},
   "outputs": [
    {
     "data": {
      "image/png": "[encoded data removed]",
      "text/plain": [
       "<Figure size 640x480 with 1 Axes>"
      ]
     },
     "metadata": {},
     "output_type": "display_data"
    }
   ],
   "source": [
    "#Two sided interval graph\n",
    "\n",
    "# importing the modules\n",
    "import matplotlib.pyplot as plt\n",
    "import numpy as np\n",
    " \n",
    "# specifying the plot size\n",
    "fig, ax = plt.subplots()\n",
    "\n",
    "ax.set_xticks((0,10,20,40,60,80))\n",
    "ax.set_xticklabels((0,100,400,1600,6400,25600))\n",
    "\n",
    "plt.xlabel(\"Additional Sample Size\")\n",
    "plt.ylabel(\"Recall\")\n",
    "\n",
    "#WSR Method TSCI\n",
    "plt.vlines(10, Samp100mets['TSCI_RECALL-lower'], Samp100mets['TSCI_RECALL-upper'], linestyles =\"solid\", colors =\"gray\", linewidth = 1)\n",
    "plt.vlines(20, Samp400mets['TSCI_RECALL-lower'], Samp400mets['TSCI_RECALL-upper'], linestyles =\"solid\", colors =\"gray\", linewidth = 1)\n",
    "plt.vlines(40, Samp1600mets['TSCI_RECALL-lower'], Samp1600mets['TSCI_RECALL-upper'], linestyles =\"solid\", colors =\"gray\", linewidth = 1)\n",
    "plt.vlines(60, Samp6400mets['TSCI_RECALL-lower'], Samp6400mets['TSCI_RECALL-upper'], linestyles =\"solid\", colors =\"gray\", linewidth = 1)\n",
    "plt.vlines(80, Samp25600mets['TSCI_RECALL-lower'], Samp25600mets['TSCI_RECALL-upper'], linestyles =\"solid\", colors =\"gray\", linewidth = 1)\n",
    "\n",
    "\n",
    "#One-Shot URE TSCI\n",
    "plt.vlines(10, URESamp100mets['URE_TSCI_RECALL-lower'], URESamp100mets['URE_TSCI_RECALL-upper'], linestyles =\"solid\", colors =\"k\", linewidth = 3)\n",
    "plt.vlines(20, URESamp400mets['URE_TSCI_RECALL-lower'], URESamp400mets['URE_TSCI_RECALL-upper'], linestyles =\"solid\", colors =\"k\", linewidth = 3)\n",
    "plt.vlines(40, URESamp1600mets['URE_TSCI_RECALL-lower'], URESamp1600mets['URE_TSCI_RECALL-upper'], linestyles =\"solid\", colors =\"k\", linewidth = 3)\n",
    "plt.vlines(60, URESamp6400mets['URE_TSCI_RECALL-lower'], URESamp6400mets['URE_TSCI_RECALL-upper'], linestyles =\"solid\", colors =\"k\", linewidth = 3)\n",
    "plt.vlines(80, URESamp25600mets['URE_TSCI_RECALL-lower'], URESamp25600mets['URE_TSCI_RECALL-upper'], linestyles =\"solid\", colors =\"k\", linewidth = 3)\n",
    "\n",
    "#80% recall marker\n",
    "plt.hlines(y=.80, xmin=0, xmax=100, linestyles = \"dotted\", colors = 'k')\n",
    "\n",
    "#upper URE conf int marker\n",
    "plt.hlines(y=URESamp100mets['URE_TSCI_RECALL-upper'], xmin=8.5, xmax=11.5, linestyles = \"solid\", colors = 'k', linewidth = 2)\n",
    "plt.hlines(y=URESamp400mets['URE_TSCI_RECALL-upper'], xmin=18.5, xmax=21.5, linestyles = \"solid\", colors = 'k', linewidth = 2)\n",
    "plt.hlines(y=URESamp1600mets['URE_TSCI_RECALL-upper'], xmin=38, xmax=41.5, linestyles = \"solid\", colors = 'k', linewidth = 2)\n",
    "plt.hlines(y=URESamp6400mets['URE_TSCI_RECALL-upper'], xmin=58, xmax=61.5, linestyles = \"solid\", colors = 'k', linewidth = 2)\n",
    "plt.hlines(y=URESamp25600mets['URE_TSCI_RECALL-upper'], xmin=78.5, xmax=81.5, linestyles = \"solid\", colors = 'k', linewidth = 2)\n",
    "\n",
    "#lower URE conf int marker\n",
    "plt.hlines(y=URESamp100mets['URE_TSCI_RECALL-lower'], xmin=8.5, xmax=11.5, linestyles = \"solid\", colors = 'k', linewidth = 2)\n",
    "plt.hlines(y=URESamp400mets['URE_TSCI_RECALL-lower'], xmin=18.5, xmax=21.5, linestyles = \"solid\", colors = 'k', linewidth = 2)\n",
    "plt.hlines(y=URESamp1600mets['URE_TSCI_RECALL-lower'], xmin=38, xmax=41.5, linestyles = \"solid\", colors = 'k', linewidth = 2)\n",
    "plt.hlines(y=URESamp6400mets['URE_TSCI_RECALL-lower'], xmin=58, xmax=61.5, linestyles = \"solid\", colors = 'k', linewidth = 2)\n",
    "plt.hlines(y=URESamp25600mets['URE_TSCI_RECALL-lower'], xmin=78.5, xmax=81.5, linestyles = \"solid\", colors = 'k', linewidth = 2)\n",
    "\n",
    "#upper WSR cont int marker\n",
    "plt.hlines(y=Samp100mets['TSCI_RECALL-upper'], xmin=8.5, xmax=11.5, linestyles = \"solid\", colors = 'gray', linewidth = 2)\n",
    "plt.hlines(y=Samp400mets['TSCI_RECALL-upper'], xmin=18.5, xmax=21.5, linestyles = \"solid\", colors = 'gray', linewidth = 2)\n",
    "plt.hlines(y=Samp1600mets['TSCI_RECALL-upper'], xmin=38, xmax=41.5, linestyles = \"solid\", colors = 'gray', linewidth = 2)\n",
    "plt.hlines(y=Samp6400mets['TSCI_RECALL-upper'], xmin=58, xmax=61.5, linestyles = \"solid\", colors = 'gray', linewidth = 2)\n",
    "plt.hlines(y=Samp25600mets['TSCI_RECALL-upper'], xmin=78.5, xmax=81.5, linestyles = \"solid\", colors = 'gray', linewidth = 2)\n",
    "\n",
    "#lower WSR conf int marker\n",
    "plt.hlines(y=Samp100mets['TSCI_RECALL-lower'], xmin=8.5, xmax=11.5, linestyles = \"solid\", colors = 'gray', linewidth = 2)\n",
    "plt.hlines(y=Samp400mets['TSCI_RECALL-lower'], xmin=18.5, xmax=21.5, linestyles = \"solid\", colors = 'gray', linewidth = 2)\n",
    "plt.hlines(y=Samp1600mets['TSCI_RECALL-lower'], xmin=38, xmax=41.5, linestyles = \"solid\", colors = 'gray', linewidth = 2)\n",
    "plt.hlines(y=Samp6400mets['TSCI_RECALL-lower'], xmin=58, xmax=61.5, linestyles = \"solid\", colors = 'gray', linewidth = 2)\n",
    "plt.hlines(y=Samp25600mets['TSCI_RECALL-lower'], xmin=78.5, xmax=81.5, linestyles = \"solid\", colors = 'gray', linewidth = 2)\n",
    "\n",
    "# line1 = plt.vlines(10, .9, 1, linestyles =\"solid\", colors =\"gray\", linewidth = 1)\n",
    "# line2 = plt.vlines(10, .99, 1, linestyles =\"solid\", colors =\"k\", linewidth = 3)\n",
    "\n",
    "location = 0\n",
    "legend_drawn_flag = True\n",
    "plt.legend([line1, line2], ['Conf. Sequence', 'URE One Shot'], loc = 4)\n",
    "plt.title(\"Regions_MEX (0.0130, Common-Easy)\")\n",
    "plt.savefig(\"two-sided regions_MEX.png\")\n",
    "# rendering plot\n",
    "plt.show()"
   ]
  }
 ],
 "metadata": {
  "kernelspec": {
   "display_name": "Python 3 (ipykernel)",
   "language": "python",
   "name": "python3"
  },
  "language_info": {
   "codemirror_mode": {
    "name": "ipython",
    "version": 3
   },
   "file_extension": ".py",
   "mimetype": "text/x-python",
   "name": "python",
   "nbconvert_exporter": "python",
   "pygments_lexer": "ipython3",
   "version": "3.9.15"
  }
 },
 "nbformat": 4,
 "nbformat_minor": 5
}
