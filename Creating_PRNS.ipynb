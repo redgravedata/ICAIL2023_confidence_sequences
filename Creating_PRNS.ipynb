{
 "cells": [
  {
   "cell_type": "code",
   "execution_count": 1,
   "id": "1738c22f-9628-49e6-ba6d-79c1c1d59f65",
   "metadata": {},
   "outputs": [],
   "source": [
    "#import the required libraries \n",
    "import sys\n",
    "import extract_module\n",
    "import pandas as pd\n",
    "import numpy as np\n",
    "import copy\n",
    "import hashlib"
   ]
  },
  {
   "cell_type": "markdown",
   "id": "6fb80be1-6e1e-4345-8b8a-5c9ca0264db8",
   "metadata": {},
   "source": [
    "Generate a large random number using numpy's Generator function\n",
    "https://numpy.org/doc/stable/reference/random/generated/numpy.random.Generator.integers.html#numpy.random.Generator.integers"
   ]
  },
  {
   "cell_type": "code",
   "execution_count": 2,
   "id": "6ae73284-299c-48f7-bce4-c734b3af8275",
   "metadata": {},
   "outputs": [
    {
     "data": {
      "text/plain": [
       "938508643608"
      ]
     },
     "execution_count": 2,
     "metadata": {},
     "output_type": "execute_result"
    }
   ],
   "source": [
    "rng = np.random.default_rng()\n",
    "PRN_prefix = rng.integers(1000000000,999999999999)\n",
    "PRN_prefix"
   ]
  },
  {
   "cell_type": "markdown",
   "id": "7faefcb8-d37a-45a9-9468-aca9fbd617dd",
   "metadata": {},
   "source": [
    "Creating a deep copy of the random number and store as a constant"
   ]
  },
  {
   "cell_type": "code",
   "execution_count": 3,
   "id": "797a1fc4-1b97-44d3-8cba-3ca23da7c71f",
   "metadata": {},
   "outputs": [
    {
     "data": {
      "text/plain": [
       "938508643608"
      ]
     },
     "execution_count": 3,
     "metadata": {},
     "output_type": "execute_result"
    }
   ],
   "source": [
    "CONST_PRN_prefix = copy.deepcopy(PRN_prefix)\n",
    "CONST_PRN_prefix"
   ]
  },
  {
   "cell_type": "markdown",
   "id": "7da96bcb-e5f0-45f3-abf0-7255e185107a",
   "metadata": {},
   "source": [
    "Import the document indexes and labels"
   ]
  },
  {
   "cell_type": "code",
   "execution_count": 4,
   "id": "5afe0d27-d857-49ae-880a-70cd2c7ca223",
   "metadata": {},
   "outputs": [],
   "source": [
    "labels = pd.read_csv('sample_labels.csv')\n",
    "labels.rename( columns={'Unnamed: 0':'Index'}, inplace=True )\n",
    "indexes = np.asarray(labels.iloc[:,0])"
   ]
  },
  {
   "cell_type": "markdown",
   "id": "9090b1e1-4164-4278-a2db-0216fd0a53e9",
   "metadata": {},
   "source": [
    "Build the PRN by appending the document index to the random integer"
   ]
  },
  {
   "cell_type": "code",
   "execution_count": 5,
   "id": "031fffb1-076f-4fbf-9be1-aa9934a97c8a",
   "metadata": {},
   "outputs": [
    {
     "data": {
      "text/plain": [
       "'b21d80c3e3bcc6155db9fefe908bc3f9'"
      ]
     },
     "execution_count": 5,
     "metadata": {},
     "output_type": "execute_result"
    }
   ],
   "source": [
    "PRN = (str(CONST_PRN_prefix) + \"_\" + str(labels[0:1]['Index'].values[0]))\n",
    "PRN = hashlib.md5(PRN.encode())\n",
    "hashed_PRN = PRN.hexdigest()\n",
    "hashed_PRN"
   ]
  },
  {
   "cell_type": "markdown",
   "id": "2cb3c72c-4dd4-42dd-9dd4-772057a0e1c9",
   "metadata": {},
   "source": [
    "Hash the PRN number using the Python hash function\n",
    "https://www.geeksforgeeks.org/python-hash-method/"
   ]
  },
  {
   "cell_type": "code",
   "execution_count": 6,
   "id": "4d33867e-2ebf-419c-8201-8f265438613e",
   "metadata": {},
   "outputs": [],
   "source": [
    "# hashed_PRN = hash(PRN)\n",
    "# hashed_PRN"
   ]
  },
  {
   "cell_type": "markdown",
   "id": "84a4bce0-7e11-418c-9f4a-d30c429be5c8",
   "metadata": {},
   "source": [
    "Create list of PRN numbers from list of indexes"
   ]
  },
  {
   "cell_type": "code",
   "execution_count": 9,
   "id": "d3efd123-ccdd-47e4-b262-8a814994d431",
   "metadata": {},
   "outputs": [
    {
     "name": "stdout",
     "output_type": "stream",
     "text": [
      "160882\n"
     ]
    }
   ],
   "source": [
    "PRN_list = extract_module.add_PRN(labels, CONST_PRN_prefix)"
   ]
  },
  {
   "cell_type": "code",
   "execution_count": 10,
   "id": "93ef4513-1d6e-45d6-b154-c6b7f7193b69",
   "metadata": {},
   "outputs": [
    {
     "data": {
      "text/plain": [
       "'557028f16ff5b20840a1a7b5f3886623'"
      ]
     },
     "execution_count": 10,
     "metadata": {},
     "output_type": "execute_result"
    }
   ],
   "source": [
    "PRN_list[20]"
   ]
  },
  {
   "cell_type": "markdown",
   "id": "c582ca9a-b2a0-48ef-8233-8c1917898566",
   "metadata": {},
   "source": [
    "Add PRN numbers to sample labels dataframe"
   ]
  },
  {
   "cell_type": "code",
   "execution_count": 11,
   "id": "21bc361d-0c27-4704-b01f-25690f2de26c",
   "metadata": {},
   "outputs": [],
   "source": [
    "labels['PRN'] = PRN_list"
   ]
  },
  {
   "cell_type": "code",
   "execution_count": 12,
   "id": "7f1a8275-7db3-4cdc-9805-4acaee3d21b3",
   "metadata": {},
   "outputs": [
    {
     "data": {
      "text/html": [
       "<div>\n",
       "<style scoped>\n",
       "    .dataframe tbody tr th:only-of-type {\n",
       "        vertical-align: middle;\n",
       "    }\n",
       "\n",
       "    .dataframe tbody tr th {\n",
       "        vertical-align: top;\n",
       "    }\n",
       "\n",
       "    .dataframe thead th {\n",
       "        text-align: right;\n",
       "    }\n",
       "</style>\n",
       "<table border=\"1\" class=\"dataframe\">\n",
       "  <thead>\n",
       "    <tr style=\"text-align: right;\">\n",
       "      <th></th>\n",
       "      <th>Index</th>\n",
       "      <th>industries_I41300</th>\n",
       "      <th>industries_I32830</th>\n",
       "      <th>regions_ALG</th>\n",
       "      <th>industries_I3302021</th>\n",
       "      <th>industries_I22100</th>\n",
       "      <th>regions_CZREP</th>\n",
       "      <th>topics_E12</th>\n",
       "      <th>industries_I1300003</th>\n",
       "      <th>regions_MEX</th>\n",
       "      <th>did</th>\n",
       "      <th>PRN</th>\n",
       "    </tr>\n",
       "  </thead>\n",
       "  <tbody>\n",
       "    <tr>\n",
       "      <th>0</th>\n",
       "      <td>0</td>\n",
       "      <td>False</td>\n",
       "      <td>False</td>\n",
       "      <td>False</td>\n",
       "      <td>False</td>\n",
       "      <td>False</td>\n",
       "      <td>False</td>\n",
       "      <td>False</td>\n",
       "      <td>False</td>\n",
       "      <td>False</td>\n",
       "      <td>2292</td>\n",
       "      <td>b21d80c3e3bcc6155db9fefe908bc3f9</td>\n",
       "    </tr>\n",
       "    <tr>\n",
       "      <th>1</th>\n",
       "      <td>1</td>\n",
       "      <td>False</td>\n",
       "      <td>False</td>\n",
       "      <td>False</td>\n",
       "      <td>False</td>\n",
       "      <td>False</td>\n",
       "      <td>False</td>\n",
       "      <td>False</td>\n",
       "      <td>False</td>\n",
       "      <td>False</td>\n",
       "      <td>2305</td>\n",
       "      <td>9bb7baf237b332eab80dbcba845208bc</td>\n",
       "    </tr>\n",
       "    <tr>\n",
       "      <th>2</th>\n",
       "      <td>2</td>\n",
       "      <td>False</td>\n",
       "      <td>False</td>\n",
       "      <td>False</td>\n",
       "      <td>False</td>\n",
       "      <td>False</td>\n",
       "      <td>False</td>\n",
       "      <td>False</td>\n",
       "      <td>False</td>\n",
       "      <td>True</td>\n",
       "      <td>2310</td>\n",
       "      <td>3bea14b1ba272c7923eb5bd5c3d717d8</td>\n",
       "    </tr>\n",
       "    <tr>\n",
       "      <th>3</th>\n",
       "      <td>3</td>\n",
       "      <td>False</td>\n",
       "      <td>False</td>\n",
       "      <td>False</td>\n",
       "      <td>False</td>\n",
       "      <td>False</td>\n",
       "      <td>False</td>\n",
       "      <td>False</td>\n",
       "      <td>False</td>\n",
       "      <td>False</td>\n",
       "      <td>2313</td>\n",
       "      <td>5594a5171849b549e99bf3d78460d198</td>\n",
       "    </tr>\n",
       "    <tr>\n",
       "      <th>4</th>\n",
       "      <td>4</td>\n",
       "      <td>False</td>\n",
       "      <td>False</td>\n",
       "      <td>False</td>\n",
       "      <td>False</td>\n",
       "      <td>False</td>\n",
       "      <td>False</td>\n",
       "      <td>False</td>\n",
       "      <td>False</td>\n",
       "      <td>False</td>\n",
       "      <td>2319</td>\n",
       "      <td>fce31ca8e529a04da2c5d9bb207e2dbf</td>\n",
       "    </tr>\n",
       "    <tr>\n",
       "      <th>...</th>\n",
       "      <td>...</td>\n",
       "      <td>...</td>\n",
       "      <td>...</td>\n",
       "      <td>...</td>\n",
       "      <td>...</td>\n",
       "      <td>...</td>\n",
       "      <td>...</td>\n",
       "      <td>...</td>\n",
       "      <td>...</td>\n",
       "      <td>...</td>\n",
       "      <td>...</td>\n",
       "      <td>...</td>\n",
       "    </tr>\n",
       "    <tr>\n",
       "      <th>95</th>\n",
       "      <td>95</td>\n",
       "      <td>False</td>\n",
       "      <td>False</td>\n",
       "      <td>False</td>\n",
       "      <td>False</td>\n",
       "      <td>False</td>\n",
       "      <td>False</td>\n",
       "      <td>False</td>\n",
       "      <td>False</td>\n",
       "      <td>False</td>\n",
       "      <td>2814</td>\n",
       "      <td>ca3a0a6b259c0c6816add174096eeeab</td>\n",
       "    </tr>\n",
       "    <tr>\n",
       "      <th>96</th>\n",
       "      <td>96</td>\n",
       "      <td>False</td>\n",
       "      <td>False</td>\n",
       "      <td>False</td>\n",
       "      <td>False</td>\n",
       "      <td>False</td>\n",
       "      <td>False</td>\n",
       "      <td>False</td>\n",
       "      <td>False</td>\n",
       "      <td>False</td>\n",
       "      <td>2817</td>\n",
       "      <td>f1a1ea4f2c49676a1efd21b78ebecde5</td>\n",
       "    </tr>\n",
       "    <tr>\n",
       "      <th>97</th>\n",
       "      <td>97</td>\n",
       "      <td>False</td>\n",
       "      <td>False</td>\n",
       "      <td>False</td>\n",
       "      <td>False</td>\n",
       "      <td>False</td>\n",
       "      <td>False</td>\n",
       "      <td>False</td>\n",
       "      <td>False</td>\n",
       "      <td>False</td>\n",
       "      <td>2819</td>\n",
       "      <td>57c53cf38ae6d8c2a5d356a155c41918</td>\n",
       "    </tr>\n",
       "    <tr>\n",
       "      <th>98</th>\n",
       "      <td>98</td>\n",
       "      <td>False</td>\n",
       "      <td>False</td>\n",
       "      <td>False</td>\n",
       "      <td>True</td>\n",
       "      <td>False</td>\n",
       "      <td>False</td>\n",
       "      <td>False</td>\n",
       "      <td>False</td>\n",
       "      <td>False</td>\n",
       "      <td>2822</td>\n",
       "      <td>21a5851cccc4b4e53144c4a2ff477592</td>\n",
       "    </tr>\n",
       "    <tr>\n",
       "      <th>99</th>\n",
       "      <td>99</td>\n",
       "      <td>False</td>\n",
       "      <td>False</td>\n",
       "      <td>False</td>\n",
       "      <td>False</td>\n",
       "      <td>False</td>\n",
       "      <td>False</td>\n",
       "      <td>False</td>\n",
       "      <td>False</td>\n",
       "      <td>False</td>\n",
       "      <td>2832</td>\n",
       "      <td>d50df6687f48a18b33754bc731816dd3</td>\n",
       "    </tr>\n",
       "  </tbody>\n",
       "</table>\n",
       "<p>100 rows × 12 columns</p>\n",
       "</div>"
      ],
      "text/plain": [
       "    Index  industries_I41300  industries_I32830  regions_ALG  \\\n",
       "0       0              False              False        False   \n",
       "1       1              False              False        False   \n",
       "2       2              False              False        False   \n",
       "3       3              False              False        False   \n",
       "4       4              False              False        False   \n",
       "..    ...                ...                ...          ...   \n",
       "95     95              False              False        False   \n",
       "96     96              False              False        False   \n",
       "97     97              False              False        False   \n",
       "98     98              False              False        False   \n",
       "99     99              False              False        False   \n",
       "\n",
       "    industries_I3302021  industries_I22100  regions_CZREP  topics_E12  \\\n",
       "0                 False              False          False       False   \n",
       "1                 False              False          False       False   \n",
       "2                 False              False          False       False   \n",
       "3                 False              False          False       False   \n",
       "4                 False              False          False       False   \n",
       "..                  ...                ...            ...         ...   \n",
       "95                False              False          False       False   \n",
       "96                False              False          False       False   \n",
       "97                False              False          False       False   \n",
       "98                 True              False          False       False   \n",
       "99                False              False          False       False   \n",
       "\n",
       "    industries_I1300003  regions_MEX   did                               PRN  \n",
       "0                 False        False  2292  b21d80c3e3bcc6155db9fefe908bc3f9  \n",
       "1                 False        False  2305  9bb7baf237b332eab80dbcba845208bc  \n",
       "2                 False         True  2310  3bea14b1ba272c7923eb5bd5c3d717d8  \n",
       "3                 False        False  2313  5594a5171849b549e99bf3d78460d198  \n",
       "4                 False        False  2319  fce31ca8e529a04da2c5d9bb207e2dbf  \n",
       "..                  ...          ...   ...                               ...  \n",
       "95                False        False  2814  ca3a0a6b259c0c6816add174096eeeab  \n",
       "96                False        False  2817  f1a1ea4f2c49676a1efd21b78ebecde5  \n",
       "97                False        False  2819  57c53cf38ae6d8c2a5d356a155c41918  \n",
       "98                False        False  2822  21a5851cccc4b4e53144c4a2ff477592  \n",
       "99                False        False  2832  d50df6687f48a18b33754bc731816dd3  \n",
       "\n",
       "[100 rows x 12 columns]"
      ]
     },
     "execution_count": 12,
     "metadata": {},
     "output_type": "execute_result"
    }
   ],
   "source": [
    "labels[0:100]"
   ]
  },
  {
   "cell_type": "markdown",
   "id": "e7c2f570-fe13-4685-9110-439f22d6f5b4",
   "metadata": {},
   "source": [
    "Export CSV will added PRNs"
   ]
  },
  {
   "cell_type": "code",
   "execution_count": 13,
   "id": "d0d7d427-5679-4767-ab5a-5eb21d512ee7",
   "metadata": {},
   "outputs": [],
   "source": [
    "labels.to_csv('sample_labels_with_PRN.csv')"
   ]
  }
 ],
 "metadata": {
  "kernelspec": {
   "display_name": "Python 3 (ipykernel)",
   "language": "python",
   "name": "python3"
  },
  "language_info": {
   "codemirror_mode": {
    "name": "ipython",
    "version": 3
   },
   "file_extension": ".py",
   "mimetype": "text/x-python",
   "name": "python",
   "nbconvert_exporter": "python",
   "pygments_lexer": "ipython3",
   "version": "3.9.15"
  }
 },
 "nbformat": 4,
 "nbformat_minor": 5
}
